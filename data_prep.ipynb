{
 "cells": [
  {
   "cell_type": "markdown",
   "metadata": {},
   "source": [
    "# Challenge - Data Preparation and Exploration"
   ]
  },
  {
   "cell_type": "markdown",
   "metadata": {},
   "source": [
    "![](https://images.unsplash.com/photo-1570651403445-54c2b0f568c0?ixlib=rb-1.2.1&ixid=eyJhcHBfaWQiOjEyMDd9&auto=format&fit=crop&w=1050&q=80)"
   ]
  },
  {
   "cell_type": "markdown",
   "metadata": {},
   "source": [
    "In this challenge, you will deal with data from COVID-19 in Senegal. The dataset you will explore has been collected from Tweets of the Health Ministry of Senegal since the outbreak of COVID-19 early March 2020."
   ]
  },
  {
   "cell_type": "markdown",
   "metadata": {},
   "source": [
    "In this notebook, you will have to load the dataset, pre-process it and extract some interesting charts."
   ]
  },
  {
   "cell_type": "markdown",
   "metadata": {},
   "source": [
    "**Q1**: Load the following dataset: https://raw.githubusercontent.com/maelfabien/COVID-19-Senegal/master/COVID_Senegal.csv"
   ]
  },
  {
   "cell_type": "code",
   "execution_count": 92,
   "metadata": {
    "ExecuteTime": {
     "end_time": "2020-04-18T15:14:42.323219Z",
     "start_time": "2020-04-18T15:14:42.320578Z"
    }
   },
   "outputs": [],
   "source": [
    "# TODO : load data\n",
    "import pandas as pd\n",
    "import os\n",
    "\n",
    "# df = pd.read_csv(\n",
    "#     os.path.join('..', 'input', 'COVID_Senegal.csv'),\n",
    "#     sep=\";\",\n",
    "#     index_col='Date',\n",
    "#     parse_dates=True,\n",
    "#     date_format=\"%d.%m.%y\"\n",
    "# ).reset_index()\n",
    "\n",
    "df = pd.read_csv(\n",
    "    os.path.join('..', 'input', 'COVID_Senegal.csv'),\n",
    "    sep=\";\"\n",
    ")"
   ]
  },
  {
   "cell_type": "code",
   "execution_count": 31,
   "metadata": {},
   "outputs": [
    {
     "data": {
      "text/html": [
       "<div>\n",
       "<style scoped>\n",
       "    .dataframe tbody tr th:only-of-type {\n",
       "        vertical-align: middle;\n",
       "    }\n",
       "\n",
       "    .dataframe tbody tr th {\n",
       "        vertical-align: top;\n",
       "    }\n",
       "\n",
       "    .dataframe thead th {\n",
       "        text-align: right;\n",
       "    }\n",
       "</style>\n",
       "<table border=\"1\" class=\"dataframe\">\n",
       "  <thead>\n",
       "    <tr style=\"text-align: right;\">\n",
       "      <th></th>\n",
       "      <th>Date</th>\n",
       "      <th>Positif</th>\n",
       "      <th>Negatif</th>\n",
       "      <th>Age</th>\n",
       "      <th>Homme</th>\n",
       "      <th>Femme</th>\n",
       "      <th>Décédé</th>\n",
       "      <th>Guéri</th>\n",
       "      <th>Nationalité</th>\n",
       "      <th>Resident Senegal</th>\n",
       "      <th>Ville</th>\n",
       "      <th>Facteur</th>\n",
       "      <th>Source/Voyage</th>\n",
       "      <th>Hopital</th>\n",
       "      <th>Temps Hospitalisation (j)</th>\n",
       "    </tr>\n",
       "  </thead>\n",
       "  <tbody>\n",
       "    <tr>\n",
       "      <th>0</th>\n",
       "      <td>02.03.20</td>\n",
       "      <td>1</td>\n",
       "      <td>0</td>\n",
       "      <td>68.0</td>\n",
       "      <td>1.0</td>\n",
       "      <td>0.0</td>\n",
       "      <td>0.0</td>\n",
       "      <td>1.0</td>\n",
       "      <td>France</td>\n",
       "      <td>Oui</td>\n",
       "      <td>Dakar</td>\n",
       "      <td>Importé</td>\n",
       "      <td>France</td>\n",
       "      <td>FANN</td>\n",
       "      <td>4.0</td>\n",
       "    </tr>\n",
       "    <tr>\n",
       "      <th>1</th>\n",
       "      <td>03.03.20</td>\n",
       "      <td>0</td>\n",
       "      <td>1</td>\n",
       "      <td>NaN</td>\n",
       "      <td>1.0</td>\n",
       "      <td>0.0</td>\n",
       "      <td>0.0</td>\n",
       "      <td>1.0</td>\n",
       "      <td>Gambie</td>\n",
       "      <td>Non</td>\n",
       "      <td>Dakar</td>\n",
       "      <td>Importé</td>\n",
       "      <td>Espagne</td>\n",
       "      <td>FANN</td>\n",
       "      <td>NaN</td>\n",
       "    </tr>\n",
       "    <tr>\n",
       "      <th>2</th>\n",
       "      <td>03.03.20</td>\n",
       "      <td>1</td>\n",
       "      <td>0</td>\n",
       "      <td>80.0</td>\n",
       "      <td>1.0</td>\n",
       "      <td>0.0</td>\n",
       "      <td>0.0</td>\n",
       "      <td>1.0</td>\n",
       "      <td>France</td>\n",
       "      <td>Non</td>\n",
       "      <td>Dakar</td>\n",
       "      <td>Importé</td>\n",
       "      <td>France</td>\n",
       "      <td>FANN</td>\n",
       "      <td>10.0</td>\n",
       "    </tr>\n",
       "    <tr>\n",
       "      <th>3</th>\n",
       "      <td>04.03.20</td>\n",
       "      <td>1</td>\n",
       "      <td>0</td>\n",
       "      <td>68.0</td>\n",
       "      <td>0.0</td>\n",
       "      <td>1.0</td>\n",
       "      <td>0.0</td>\n",
       "      <td>1.0</td>\n",
       "      <td>France</td>\n",
       "      <td>Non</td>\n",
       "      <td>Dakar</td>\n",
       "      <td>Importé</td>\n",
       "      <td>France</td>\n",
       "      <td>FANN</td>\n",
       "      <td>15.0</td>\n",
       "    </tr>\n",
       "    <tr>\n",
       "      <th>4</th>\n",
       "      <td>04.03.20</td>\n",
       "      <td>1</td>\n",
       "      <td>0</td>\n",
       "      <td>33.0</td>\n",
       "      <td>0.0</td>\n",
       "      <td>1.0</td>\n",
       "      <td>0.0</td>\n",
       "      <td>1.0</td>\n",
       "      <td>Angleterre</td>\n",
       "      <td>Non</td>\n",
       "      <td>Dakar</td>\n",
       "      <td>Importé</td>\n",
       "      <td>Angleterre</td>\n",
       "      <td>FANN</td>\n",
       "      <td>7.0</td>\n",
       "    </tr>\n",
       "  </tbody>\n",
       "</table>\n",
       "</div>"
      ],
      "text/plain": [
       "       Date  Positif  Negatif   Age  Homme  Femme  Décédé  Guéri Nationalité  \\\n",
       "0  02.03.20        1        0  68.0    1.0    0.0     0.0    1.0      France   \n",
       "1  03.03.20        0        1   NaN    1.0    0.0     0.0    1.0      Gambie   \n",
       "2  03.03.20        1        0  80.0    1.0    0.0     0.0    1.0      France   \n",
       "3  04.03.20        1        0  68.0    0.0    1.0     0.0    1.0      France   \n",
       "4  04.03.20        1        0  33.0    0.0    1.0     0.0    1.0  Angleterre   \n",
       "\n",
       "  Resident Senegal  Ville  Facteur Source/Voyage Hopital  \\\n",
       "0              Oui  Dakar  Importé        France    FANN   \n",
       "1              Non  Dakar  Importé       Espagne    FANN   \n",
       "2              Non  Dakar  Importé        France    FANN   \n",
       "3              Non  Dakar  Importé        France    FANN   \n",
       "4              Non  Dakar  Importé    Angleterre    FANN   \n",
       "\n",
       "   Temps Hospitalisation (j)  \n",
       "0                        4.0  \n",
       "1                        NaN  \n",
       "2                       10.0  \n",
       "3                       15.0  \n",
       "4                        7.0  "
      ]
     },
     "execution_count": 31,
     "metadata": {},
     "output_type": "execute_result"
    }
   ],
   "source": [
    "df.head()"
   ]
  },
  {
   "cell_type": "code",
   "execution_count": 93,
   "metadata": {},
   "outputs": [],
   "source": [
    "df['Date'] = pd.to_datetime(df['Date'], format='%d.%m.%y')"
   ]
  },
  {
   "cell_type": "markdown",
   "metadata": {},
   "source": [
    "**Q2**: Compute the total number of positive cases, negative cases, deaths and healed cases."
   ]
  },
  {
   "cell_type": "code",
   "execution_count": 58,
   "metadata": {},
   "outputs": [
    {
     "data": {
      "text/plain": [
       "Positif     222.0\n",
       "Negatif    1774.0\n",
       "Décédé        2.0\n",
       "Guéri        81.0\n",
       "dtype: float64"
      ]
     },
     "execution_count": 58,
     "metadata": {},
     "output_type": "execute_result"
    }
   ],
   "source": [
    "df[['Positif', 'Negatif', 'Décédé', 'Guéri']].sum()"
   ]
  },
  {
   "cell_type": "markdown",
   "metadata": {},
   "source": [
    "**Q3**: With Matplotlib, compute the evolution of the number of positive cases in Senegal"
   ]
  },
  {
   "cell_type": "code",
   "execution_count": 94,
   "metadata": {},
   "outputs": [
    {
     "data": {
      "text/html": [
       "<div>\n",
       "<style scoped>\n",
       "    .dataframe tbody tr th:only-of-type {\n",
       "        vertical-align: middle;\n",
       "    }\n",
       "\n",
       "    .dataframe tbody tr th {\n",
       "        vertical-align: top;\n",
       "    }\n",
       "\n",
       "    .dataframe thead th {\n",
       "        text-align: right;\n",
       "    }\n",
       "</style>\n",
       "<table border=\"1\" class=\"dataframe\">\n",
       "  <thead>\n",
       "    <tr style=\"text-align: right;\">\n",
       "      <th></th>\n",
       "      <th>Date</th>\n",
       "      <th>Positif</th>\n",
       "      <th>Negatif</th>\n",
       "      <th>Décédé</th>\n",
       "      <th>Guéri</th>\n",
       "    </tr>\n",
       "  </thead>\n",
       "  <tbody>\n",
       "    <tr>\n",
       "      <th>33</th>\n",
       "      <td>2020-04-05</td>\n",
       "      <td>222</td>\n",
       "      <td>1774</td>\n",
       "      <td>2.0</td>\n",
       "      <td>81.0</td>\n",
       "    </tr>\n",
       "    <tr>\n",
       "      <th>32</th>\n",
       "      <td>2020-04-04</td>\n",
       "      <td>219</td>\n",
       "      <td>1685</td>\n",
       "      <td>2.0</td>\n",
       "      <td>81.0</td>\n",
       "    </tr>\n",
       "    <tr>\n",
       "      <th>31</th>\n",
       "      <td>2020-04-03</td>\n",
       "      <td>207</td>\n",
       "      <td>1520</td>\n",
       "      <td>2.0</td>\n",
       "      <td>81.0</td>\n",
       "    </tr>\n",
       "    <tr>\n",
       "      <th>30</th>\n",
       "      <td>2020-04-02</td>\n",
       "      <td>195</td>\n",
       "      <td>1379</td>\n",
       "      <td>2.0</td>\n",
       "      <td>81.0</td>\n",
       "    </tr>\n",
       "    <tr>\n",
       "      <th>29</th>\n",
       "      <td>2020-04-01</td>\n",
       "      <td>190</td>\n",
       "      <td>1297</td>\n",
       "      <td>2.0</td>\n",
       "      <td>81.0</td>\n",
       "    </tr>\n",
       "    <tr>\n",
       "      <th>28</th>\n",
       "      <td>2020-03-31</td>\n",
       "      <td>175</td>\n",
       "      <td>1117</td>\n",
       "      <td>2.0</td>\n",
       "      <td>81.0</td>\n",
       "    </tr>\n",
       "    <tr>\n",
       "      <th>27</th>\n",
       "      <td>2020-03-30</td>\n",
       "      <td>161</td>\n",
       "      <td>1033</td>\n",
       "      <td>1.0</td>\n",
       "      <td>81.0</td>\n",
       "    </tr>\n",
       "    <tr>\n",
       "      <th>26</th>\n",
       "      <td>2020-03-29</td>\n",
       "      <td>141</td>\n",
       "      <td>966</td>\n",
       "      <td>1.0</td>\n",
       "      <td>81.0</td>\n",
       "    </tr>\n",
       "    <tr>\n",
       "      <th>25</th>\n",
       "      <td>2020-03-28</td>\n",
       "      <td>130</td>\n",
       "      <td>826</td>\n",
       "      <td>1.0</td>\n",
       "      <td>81.0</td>\n",
       "    </tr>\n",
       "    <tr>\n",
       "      <th>24</th>\n",
       "      <td>2020-03-27</td>\n",
       "      <td>119</td>\n",
       "      <td>739</td>\n",
       "      <td>1.0</td>\n",
       "      <td>81.0</td>\n",
       "    </tr>\n",
       "  </tbody>\n",
       "</table>\n",
       "</div>"
      ],
      "text/plain": [
       "         Date  Positif  Negatif  Décédé  Guéri\n",
       "33 2020-04-05      222     1774     2.0   81.0\n",
       "32 2020-04-04      219     1685     2.0   81.0\n",
       "31 2020-04-03      207     1520     2.0   81.0\n",
       "30 2020-04-02      195     1379     2.0   81.0\n",
       "29 2020-04-01      190     1297     2.0   81.0\n",
       "28 2020-03-31      175     1117     2.0   81.0\n",
       "27 2020-03-30      161     1033     1.0   81.0\n",
       "26 2020-03-29      141      966     1.0   81.0\n",
       "25 2020-03-28      130      826     1.0   81.0\n",
       "24 2020-03-27      119      739     1.0   81.0"
      ]
     },
     "execution_count": 94,
     "metadata": {},
     "output_type": "execute_result"
    }
   ],
   "source": [
    "df.groupby(['Date'])[['Positif', 'Negatif', 'Décédé', 'Guéri']]\\\n",
    "    .sum().cumsum()\\\n",
    "    .reset_index()\\\n",
    "    .sort_values(by='Date', ascending=False)\\\n",
    "    .head(10)"
   ]
  },
  {
   "cell_type": "code",
   "execution_count": 71,
   "metadata": {},
   "outputs": [],
   "source": [
    "df_cumulative_sums = df.groupby(['Date'])[['Positif', 'Negatif', 'Décédé', 'Guéri']]\\\n",
    "    .sum().cumsum().reset_index()"
   ]
  },
  {
   "cell_type": "code",
   "execution_count": 72,
   "metadata": {},
   "outputs": [],
   "source": [
    "import matplotlib.pyplot as plt"
   ]
  },
  {
   "cell_type": "code",
   "execution_count": 76,
   "metadata": {},
   "outputs": [
    {
     "data": {
      "text/plain": [
       "<Axes: xlabel='Date', ylabel='Cumulative number of positive cases'>"
      ]
     },
     "execution_count": 76,
     "metadata": {},
     "output_type": "execute_result"
    },
    {
     "data": {
      "image/png": "[encoded data removed]",
      "text/plain": [
       "<Figure size 640x480 with 1 Axes>"
      ]
     },
     "metadata": {},
     "output_type": "display_data"
    }
   ],
   "source": [
    "df_cumulative_sums.plot(\n",
    "    x=\"Date\",\n",
    "    y=\"Positif\",\n",
    "    kind='line',\n",
    "    ylabel='Cumulative number of positive cases'\n",
    ")"
   ]
  },
  {
   "cell_type": "markdown",
   "metadata": {},
   "source": [
    "**Q4**: With Matplotlib, compute the evolution of the number of active cases in Senegal (pos - heal)."
   ]
  },
  {
   "cell_type": "code",
   "execution_count": 77,
   "metadata": {},
   "outputs": [
    {
     "data": {
      "text/plain": [
       "<Axes: xlabel='Date', ylabel='Cumulative number of healed cases'>"
      ]
     },
     "execution_count": 77,
     "metadata": {},
     "output_type": "execute_result"
    },
    {
     "data": {
      "image/png": "[encoded data removed]",
      "text/plain": [
       "<Figure size 640x480 with 1 Axes>"
      ]
     },
     "metadata": {},
     "output_type": "display_data"
    }
   ],
   "source": [
    "df_cumulative_sums.plot(\n",
    "    x=\"Date\",\n",
    "    y=\"Guéri\",\n",
    "    kind='line',\n",
    "    ylabel='Cumulative number of healed cases'\n",
    ")"
   ]
  },
  {
   "cell_type": "markdown",
   "metadata": {},
   "source": [
    "**Q5**: Draw the same 2 plots with Altair"
   ]
  },
  {
   "cell_type": "code",
   "execution_count": 97,
   "metadata": {},
   "outputs": [],
   "source": [
    "import altair as alt"
   ]
  },
  {
   "cell_type": "code",
   "execution_count": 98,
   "metadata": {},
   "outputs": [
    {
     "data": {
      "text/html": [
       "\n",
       "<style>\n",
       "  #altair-viz-ca53d49756674ddf88617f88a8fddd5a.vega-embed {\n",
       "    width: 100%;\n",
       "    display: flex;\n",
       "  }\n",
       "\n",
       "  #altair-viz-ca53d49756674ddf88617f88a8fddd5a.vega-embed details,\n",
       "  #altair-viz-ca53d49756674ddf88617f88a8fddd5a.vega-embed details summary {\n",
       "    position: relative;\n",
       "  }\n",
       "</style>\n",
       "<div id=\"altair-viz-ca53d49756674ddf88617f88a8fddd5a\"></div>\n",
       "<script type=\"text/javascript\">\n",
       "  var VEGA_DEBUG = (typeof VEGA_DEBUG == \"undefined\") ? {} : VEGA_DEBUG;\n",
       "  (function(spec, embedOpt){\n",
       "    let outputDiv = document.currentScript.previousElementSibling;\n",
       "    if (outputDiv.id !== \"altair-viz-ca53d49756674ddf88617f88a8fddd5a\") {\n",
       "      outputDiv = document.getElementById(\"altair-viz-ca53d49756674ddf88617f88a8fddd5a\");\n",
       "    }\n",
       "    const paths = {\n",
       "      \"vega\": \"https://cdn.jsdelivr.net/npm/vega@5?noext\",\n",
       "      \"vega-lib\": \"https://cdn.jsdelivr.net/npm/vega-lib?noext\",\n",
       "      \"vega-lite\": \"https://cdn.jsdelivr.net/npm/vega-lite@5.14.1?noext\",\n",
       "      \"vega-embed\": \"https://cdn.jsdelivr.net/npm/vega-embed@6?noext\",\n",
       "    };\n",
       "\n",
       "    function maybeLoadScript(lib, version) {\n",
       "      var key = `${lib.replace(\"-\", \"\")}_version`;\n",
       "      return (VEGA_DEBUG[key] == version) ?\n",
       "        Promise.resolve(paths[lib]) :\n",
       "        new Promise(function(resolve, reject) {\n",
       "          var s = document.createElement('script');\n",
       "          document.getElementsByTagName(\"head\")[0].appendChild(s);\n",
       "          s.async = true;\n",
       "          s.onload = () => {\n",
       "            VEGA_DEBUG[key] = version;\n",
       "            return resolve(paths[lib]);\n",
       "          };\n",
       "          s.onerror = () => reject(`Error loading script: ${paths[lib]}`);\n",
       "          s.src = paths[lib];\n",
       "        });\n",
       "    }\n",
       "\n",
       "    function showError(err) {\n",
       "      outputDiv.innerHTML = `<div class=\"error\" style=\"color:red;\">${err}</div>`;\n",
       "      throw err;\n",
       "    }\n",
       "\n",
       "    function displayChart(vegaEmbed) {\n",
       "      vegaEmbed(outputDiv, spec, embedOpt)\n",
       "        .catch(err => showError(`Javascript Error: ${err.message}<br>This usually means there's a typo in your chart specification. See the javascript console for the full traceback.`));\n",
       "    }\n",
       "\n",
       "    if(typeof define === \"function\" && define.amd) {\n",
       "      requirejs.config({paths});\n",
       "      require([\"vega-embed\"], displayChart, err => showError(`Error loading script: ${err.message}`));\n",
       "    } else {\n",
       "      maybeLoadScript(\"vega\", \"5\")\n",
       "        .then(() => maybeLoadScript(\"vega-lite\", \"5.14.1\"))\n",
       "        .then(() => maybeLoadScript(\"vega-embed\", \"6\"))\n",
       "        .catch(showError)\n",
       "        .then(() => displayChart(vegaEmbed));\n",
       "    }\n",
       "  })({\"config\": {\"view\": {\"continuousWidth\": 300, \"continuousHeight\": 300}}, \"data\": {\"name\": \"data-01b94e54d5a7e15c3c8e817b5f2907e4\"}, \"mark\": {\"type\": \"line\"}, \"encoding\": {\"x\": {\"field\": \"Date\", \"type\": \"temporal\"}, \"y\": {\"field\": \"Positif\", \"type\": \"quantitative\"}}, \"$schema\": \"https://vega.github.io/schema/vega-lite/v5.14.1.json\", \"datasets\": {\"data-01b94e54d5a7e15c3c8e817b5f2907e4\": [{\"Date\": \"2020-03-02T00:00:00\", \"Positif\": 1, \"Negatif\": 0, \"D\\u00e9c\\u00e9d\\u00e9\": 0.0, \"Gu\\u00e9ri\": 1.0}, {\"Date\": \"2020-03-03T00:00:00\", \"Positif\": 2, \"Negatif\": 1, \"D\\u00e9c\\u00e9d\\u00e9\": 0.0, \"Gu\\u00e9ri\": 3.0}, {\"Date\": \"2020-03-04T00:00:00\", \"Positif\": 4, \"Negatif\": 1, \"D\\u00e9c\\u00e9d\\u00e9\": 0.0, \"Gu\\u00e9ri\": 5.0}, {\"Date\": \"2020-03-06T00:00:00\", \"Positif\": 4, \"Negatif\": 3, \"D\\u00e9c\\u00e9d\\u00e9\": 0.0, \"Gu\\u00e9ri\": 5.0}, {\"Date\": \"2020-03-07T00:00:00\", \"Positif\": 4, \"Negatif\": 5, \"D\\u00e9c\\u00e9d\\u00e9\": 0.0, \"Gu\\u00e9ri\": 5.0}, {\"Date\": \"2020-03-08T00:00:00\", \"Positif\": 4, \"Negatif\": 7, \"D\\u00e9c\\u00e9d\\u00e9\": 0.0, \"Gu\\u00e9ri\": 5.0}, {\"Date\": \"2020-03-09T00:00:00\", \"Positif\": 4, \"Negatif\": 13, \"D\\u00e9c\\u00e9d\\u00e9\": 0.0, \"Gu\\u00e9ri\": 5.0}, {\"Date\": \"2020-03-10T00:00:00\", \"Positif\": 4, \"Negatif\": 14, \"D\\u00e9c\\u00e9d\\u00e9\": 0.0, \"Gu\\u00e9ri\": 5.0}, {\"Date\": \"2020-03-11T00:00:00\", \"Positif\": 5, \"Negatif\": 21, \"D\\u00e9c\\u00e9d\\u00e9\": 0.0, \"Gu\\u00e9ri\": 6.0}, {\"Date\": \"2020-03-12T00:00:00\", \"Positif\": 10, \"Negatif\": 22, \"D\\u00e9c\\u00e9d\\u00e9\": 0.0, \"Gu\\u00e9ri\": 11.0}, {\"Date\": \"2020-03-13T00:00:00\", \"Positif\": 21, \"Negatif\": 22, \"D\\u00e9c\\u00e9d\\u00e9\": 0.0, \"Gu\\u00e9ri\": 22.0}, {\"Date\": \"2020-03-14T00:00:00\", \"Positif\": 24, \"Negatif\": 22, \"D\\u00e9c\\u00e9d\\u00e9\": 0.0, \"Gu\\u00e9ri\": 25.0}, {\"Date\": \"2020-03-15T00:00:00\", \"Positif\": 26, \"Negatif\": 22, \"D\\u00e9c\\u00e9d\\u00e9\": 0.0, \"Gu\\u00e9ri\": 27.0}, {\"Date\": \"2020-03-16T00:00:00\", \"Positif\": 27, \"Negatif\": 30, \"D\\u00e9c\\u00e9d\\u00e9\": 0.0, \"Gu\\u00e9ri\": 28.0}, {\"Date\": \"2020-03-17T00:00:00\", \"Positif\": 31, \"Negatif\": 70, \"D\\u00e9c\\u00e9d\\u00e9\": 0.0, \"Gu\\u00e9ri\": 32.0}, {\"Date\": \"2020-03-18T00:00:00\", \"Positif\": 36, \"Negatif\": 92, \"D\\u00e9c\\u00e9d\\u00e9\": 0.0, \"Gu\\u00e9ri\": 37.0}, {\"Date\": \"2020-03-19T00:00:00\", \"Positif\": 38, \"Negatif\": 112, \"D\\u00e9c\\u00e9d\\u00e9\": 0.0, \"Gu\\u00e9ri\": 39.0}, {\"Date\": \"2020-03-20T00:00:00\", \"Positif\": 47, \"Negatif\": 159, \"D\\u00e9c\\u00e9d\\u00e9\": 0.0, \"Gu\\u00e9ri\": 48.0}, {\"Date\": \"2020-03-21T00:00:00\", \"Positif\": 56, \"Negatif\": 181, \"D\\u00e9c\\u00e9d\\u00e9\": 0.0, \"Gu\\u00e9ri\": 57.0}, {\"Date\": \"2020-03-22T00:00:00\", \"Positif\": 67, \"Negatif\": 255, \"D\\u00e9c\\u00e9d\\u00e9\": 1.0, \"Gu\\u00e9ri\": 67.0}, {\"Date\": \"2020-03-23T00:00:00\", \"Positif\": 79, \"Negatif\": 304, \"D\\u00e9c\\u00e9d\\u00e9\": 1.0, \"Gu\\u00e9ri\": 79.0}, {\"Date\": \"2020-03-24T00:00:00\", \"Positif\": 86, \"Negatif\": 356, \"D\\u00e9c\\u00e9d\\u00e9\": 1.0, \"Gu\\u00e9ri\": 81.0}, {\"Date\": \"2020-03-25T00:00:00\", \"Positif\": 99, \"Negatif\": 485, \"D\\u00e9c\\u00e9d\\u00e9\": 1.0, \"Gu\\u00e9ri\": 81.0}, {\"Date\": \"2020-03-26T00:00:00\", \"Positif\": 105, \"Negatif\": 609, \"D\\u00e9c\\u00e9d\\u00e9\": 1.0, \"Gu\\u00e9ri\": 81.0}, {\"Date\": \"2020-03-27T00:00:00\", \"Positif\": 119, \"Negatif\": 739, \"D\\u00e9c\\u00e9d\\u00e9\": 1.0, \"Gu\\u00e9ri\": 81.0}, {\"Date\": \"2020-03-28T00:00:00\", \"Positif\": 130, \"Negatif\": 826, \"D\\u00e9c\\u00e9d\\u00e9\": 1.0, \"Gu\\u00e9ri\": 81.0}, {\"Date\": \"2020-03-29T00:00:00\", \"Positif\": 141, \"Negatif\": 966, \"D\\u00e9c\\u00e9d\\u00e9\": 1.0, \"Gu\\u00e9ri\": 81.0}, {\"Date\": \"2020-03-30T00:00:00\", \"Positif\": 161, \"Negatif\": 1033, \"D\\u00e9c\\u00e9d\\u00e9\": 1.0, \"Gu\\u00e9ri\": 81.0}, {\"Date\": \"2020-03-31T00:00:00\", \"Positif\": 175, \"Negatif\": 1117, \"D\\u00e9c\\u00e9d\\u00e9\": 2.0, \"Gu\\u00e9ri\": 81.0}, {\"Date\": \"2020-04-01T00:00:00\", \"Positif\": 190, \"Negatif\": 1297, \"D\\u00e9c\\u00e9d\\u00e9\": 2.0, \"Gu\\u00e9ri\": 81.0}, {\"Date\": \"2020-04-02T00:00:00\", \"Positif\": 195, \"Negatif\": 1379, \"D\\u00e9c\\u00e9d\\u00e9\": 2.0, \"Gu\\u00e9ri\": 81.0}, {\"Date\": \"2020-04-03T00:00:00\", \"Positif\": 207, \"Negatif\": 1520, \"D\\u00e9c\\u00e9d\\u00e9\": 2.0, \"Gu\\u00e9ri\": 81.0}, {\"Date\": \"2020-04-04T00:00:00\", \"Positif\": 219, \"Negatif\": 1685, \"D\\u00e9c\\u00e9d\\u00e9\": 2.0, \"Gu\\u00e9ri\": 81.0}, {\"Date\": \"2020-04-05T00:00:00\", \"Positif\": 222, \"Negatif\": 1774, \"D\\u00e9c\\u00e9d\\u00e9\": 2.0, \"Gu\\u00e9ri\": 81.0}]}}, {\"mode\": \"vega-lite\"});\n",
       "</script>"
      ],
      "text/plain": [
       "alt.Chart(...)"
      ]
     },
     "execution_count": 98,
     "metadata": {},
     "output_type": "execute_result"
    }
   ],
   "source": [
    "alt.Chart(df_cumulative_sums).mark_line().encode(\n",
    "    x='Date',\n",
    "    y='Positif'\n",
    ")\n"
   ]
  },
  {
   "cell_type": "code",
   "execution_count": 99,
   "metadata": {},
   "outputs": [
    {
     "data": {
      "text/html": [
       "\n",
       "<style>\n",
       "  #altair-viz-e428b48647a24f17beed7869428e9206.vega-embed {\n",
       "    width: 100%;\n",
       "    display: flex;\n",
       "  }\n",
       "\n",
       "  #altair-viz-e428b48647a24f17beed7869428e9206.vega-embed details,\n",
       "  #altair-viz-e428b48647a24f17beed7869428e9206.vega-embed details summary {\n",
       "    position: relative;\n",
       "  }\n",
       "</style>\n",
       "<div id=\"altair-viz-e428b48647a24f17beed7869428e9206\"></div>\n",
       "<script type=\"text/javascript\">\n",
       "  var VEGA_DEBUG = (typeof VEGA_DEBUG == \"undefined\") ? {} : VEGA_DEBUG;\n",
       "  (function(spec, embedOpt){\n",
       "    let outputDiv = document.currentScript.previousElementSibling;\n",
       "    if (outputDiv.id !== \"altair-viz-e428b48647a24f17beed7869428e9206\") {\n",
       "      outputDiv = document.getElementById(\"altair-viz-e428b48647a24f17beed7869428e9206\");\n",
       "    }\n",
       "    const paths = {\n",
       "      \"vega\": \"https://cdn.jsdelivr.net/npm/vega@5?noext\",\n",
       "      \"vega-lib\": \"https://cdn.jsdelivr.net/npm/vega-lib?noext\",\n",
       "      \"vega-lite\": \"https://cdn.jsdelivr.net/npm/vega-lite@5.14.1?noext\",\n",
       "      \"vega-embed\": \"https://cdn.jsdelivr.net/npm/vega-embed@6?noext\",\n",
       "    };\n",
       "\n",
       "    function maybeLoadScript(lib, version) {\n",
       "      var key = `${lib.replace(\"-\", \"\")}_version`;\n",
       "      return (VEGA_DEBUG[key] == version) ?\n",
       "        Promise.resolve(paths[lib]) :\n",
       "        new Promise(function(resolve, reject) {\n",
       "          var s = document.createElement('script');\n",
       "          document.getElementsByTagName(\"head\")[0].appendChild(s);\n",
       "          s.async = true;\n",
       "          s.onload = () => {\n",
       "            VEGA_DEBUG[key] = version;\n",
       "            return resolve(paths[lib]);\n",
       "          };\n",
       "          s.onerror = () => reject(`Error loading script: ${paths[lib]}`);\n",
       "          s.src = paths[lib];\n",
       "        });\n",
       "    }\n",
       "\n",
       "    function showError(err) {\n",
       "      outputDiv.innerHTML = `<div class=\"error\" style=\"color:red;\">${err}</div>`;\n",
       "      throw err;\n",
       "    }\n",
       "\n",
       "    function displayChart(vegaEmbed) {\n",
       "      vegaEmbed(outputDiv, spec, embedOpt)\n",
       "        .catch(err => showError(`Javascript Error: ${err.message}<br>This usually means there's a typo in your chart specification. See the javascript console for the full traceback.`));\n",
       "    }\n",
       "\n",
       "    if(typeof define === \"function\" && define.amd) {\n",
       "      requirejs.config({paths});\n",
       "      require([\"vega-embed\"], displayChart, err => showError(`Error loading script: ${err.message}`));\n",
       "    } else {\n",
       "      maybeLoadScript(\"vega\", \"5\")\n",
       "        .then(() => maybeLoadScript(\"vega-lite\", \"5.14.1\"))\n",
       "        .then(() => maybeLoadScript(\"vega-embed\", \"6\"))\n",
       "        .catch(showError)\n",
       "        .then(() => displayChart(vegaEmbed));\n",
       "    }\n",
       "  })({\"config\": {\"view\": {\"continuousWidth\": 300, \"continuousHeight\": 300}}, \"data\": {\"name\": \"data-01b94e54d5a7e15c3c8e817b5f2907e4\"}, \"mark\": {\"type\": \"line\"}, \"encoding\": {\"x\": {\"field\": \"Date\", \"type\": \"temporal\"}, \"y\": {\"field\": \"Gu\\u00e9ri\", \"type\": \"quantitative\"}}, \"$schema\": \"https://vega.github.io/schema/vega-lite/v5.14.1.json\", \"datasets\": {\"data-01b94e54d5a7e15c3c8e817b5f2907e4\": [{\"Date\": \"2020-03-02T00:00:00\", \"Positif\": 1, \"Negatif\": 0, \"D\\u00e9c\\u00e9d\\u00e9\": 0.0, \"Gu\\u00e9ri\": 1.0}, {\"Date\": \"2020-03-03T00:00:00\", \"Positif\": 2, \"Negatif\": 1, \"D\\u00e9c\\u00e9d\\u00e9\": 0.0, \"Gu\\u00e9ri\": 3.0}, {\"Date\": \"2020-03-04T00:00:00\", \"Positif\": 4, \"Negatif\": 1, \"D\\u00e9c\\u00e9d\\u00e9\": 0.0, \"Gu\\u00e9ri\": 5.0}, {\"Date\": \"2020-03-06T00:00:00\", \"Positif\": 4, \"Negatif\": 3, \"D\\u00e9c\\u00e9d\\u00e9\": 0.0, \"Gu\\u00e9ri\": 5.0}, {\"Date\": \"2020-03-07T00:00:00\", \"Positif\": 4, \"Negatif\": 5, \"D\\u00e9c\\u00e9d\\u00e9\": 0.0, \"Gu\\u00e9ri\": 5.0}, {\"Date\": \"2020-03-08T00:00:00\", \"Positif\": 4, \"Negatif\": 7, \"D\\u00e9c\\u00e9d\\u00e9\": 0.0, \"Gu\\u00e9ri\": 5.0}, {\"Date\": \"2020-03-09T00:00:00\", \"Positif\": 4, \"Negatif\": 13, \"D\\u00e9c\\u00e9d\\u00e9\": 0.0, \"Gu\\u00e9ri\": 5.0}, {\"Date\": \"2020-03-10T00:00:00\", \"Positif\": 4, \"Negatif\": 14, \"D\\u00e9c\\u00e9d\\u00e9\": 0.0, \"Gu\\u00e9ri\": 5.0}, {\"Date\": \"2020-03-11T00:00:00\", \"Positif\": 5, \"Negatif\": 21, \"D\\u00e9c\\u00e9d\\u00e9\": 0.0, \"Gu\\u00e9ri\": 6.0}, {\"Date\": \"2020-03-12T00:00:00\", \"Positif\": 10, \"Negatif\": 22, \"D\\u00e9c\\u00e9d\\u00e9\": 0.0, \"Gu\\u00e9ri\": 11.0}, {\"Date\": \"2020-03-13T00:00:00\", \"Positif\": 21, \"Negatif\": 22, \"D\\u00e9c\\u00e9d\\u00e9\": 0.0, \"Gu\\u00e9ri\": 22.0}, {\"Date\": \"2020-03-14T00:00:00\", \"Positif\": 24, \"Negatif\": 22, \"D\\u00e9c\\u00e9d\\u00e9\": 0.0, \"Gu\\u00e9ri\": 25.0}, {\"Date\": \"2020-03-15T00:00:00\", \"Positif\": 26, \"Negatif\": 22, \"D\\u00e9c\\u00e9d\\u00e9\": 0.0, \"Gu\\u00e9ri\": 27.0}, {\"Date\": \"2020-03-16T00:00:00\", \"Positif\": 27, \"Negatif\": 30, \"D\\u00e9c\\u00e9d\\u00e9\": 0.0, \"Gu\\u00e9ri\": 28.0}, {\"Date\": \"2020-03-17T00:00:00\", \"Positif\": 31, \"Negatif\": 70, \"D\\u00e9c\\u00e9d\\u00e9\": 0.0, \"Gu\\u00e9ri\": 32.0}, {\"Date\": \"2020-03-18T00:00:00\", \"Positif\": 36, \"Negatif\": 92, \"D\\u00e9c\\u00e9d\\u00e9\": 0.0, \"Gu\\u00e9ri\": 37.0}, {\"Date\": \"2020-03-19T00:00:00\", \"Positif\": 38, \"Negatif\": 112, \"D\\u00e9c\\u00e9d\\u00e9\": 0.0, \"Gu\\u00e9ri\": 39.0}, {\"Date\": \"2020-03-20T00:00:00\", \"Positif\": 47, \"Negatif\": 159, \"D\\u00e9c\\u00e9d\\u00e9\": 0.0, \"Gu\\u00e9ri\": 48.0}, {\"Date\": \"2020-03-21T00:00:00\", \"Positif\": 56, \"Negatif\": 181, \"D\\u00e9c\\u00e9d\\u00e9\": 0.0, \"Gu\\u00e9ri\": 57.0}, {\"Date\": \"2020-03-22T00:00:00\", \"Positif\": 67, \"Negatif\": 255, \"D\\u00e9c\\u00e9d\\u00e9\": 1.0, \"Gu\\u00e9ri\": 67.0}, {\"Date\": \"2020-03-23T00:00:00\", \"Positif\": 79, \"Negatif\": 304, \"D\\u00e9c\\u00e9d\\u00e9\": 1.0, \"Gu\\u00e9ri\": 79.0}, {\"Date\": \"2020-03-24T00:00:00\", \"Positif\": 86, \"Negatif\": 356, \"D\\u00e9c\\u00e9d\\u00e9\": 1.0, \"Gu\\u00e9ri\": 81.0}, {\"Date\": \"2020-03-25T00:00:00\", \"Positif\": 99, \"Negatif\": 485, \"D\\u00e9c\\u00e9d\\u00e9\": 1.0, \"Gu\\u00e9ri\": 81.0}, {\"Date\": \"2020-03-26T00:00:00\", \"Positif\": 105, \"Negatif\": 609, \"D\\u00e9c\\u00e9d\\u00e9\": 1.0, \"Gu\\u00e9ri\": 81.0}, {\"Date\": \"2020-03-27T00:00:00\", \"Positif\": 119, \"Negatif\": 739, \"D\\u00e9c\\u00e9d\\u00e9\": 1.0, \"Gu\\u00e9ri\": 81.0}, {\"Date\": \"2020-03-28T00:00:00\", \"Positif\": 130, \"Negatif\": 826, \"D\\u00e9c\\u00e9d\\u00e9\": 1.0, \"Gu\\u00e9ri\": 81.0}, {\"Date\": \"2020-03-29T00:00:00\", \"Positif\": 141, \"Negatif\": 966, \"D\\u00e9c\\u00e9d\\u00e9\": 1.0, \"Gu\\u00e9ri\": 81.0}, {\"Date\": \"2020-03-30T00:00:00\", \"Positif\": 161, \"Negatif\": 1033, \"D\\u00e9c\\u00e9d\\u00e9\": 1.0, \"Gu\\u00e9ri\": 81.0}, {\"Date\": \"2020-03-31T00:00:00\", \"Positif\": 175, \"Negatif\": 1117, \"D\\u00e9c\\u00e9d\\u00e9\": 2.0, \"Gu\\u00e9ri\": 81.0}, {\"Date\": \"2020-04-01T00:00:00\", \"Positif\": 190, \"Negatif\": 1297, \"D\\u00e9c\\u00e9d\\u00e9\": 2.0, \"Gu\\u00e9ri\": 81.0}, {\"Date\": \"2020-04-02T00:00:00\", \"Positif\": 195, \"Negatif\": 1379, \"D\\u00e9c\\u00e9d\\u00e9\": 2.0, \"Gu\\u00e9ri\": 81.0}, {\"Date\": \"2020-04-03T00:00:00\", \"Positif\": 207, \"Negatif\": 1520, \"D\\u00e9c\\u00e9d\\u00e9\": 2.0, \"Gu\\u00e9ri\": 81.0}, {\"Date\": \"2020-04-04T00:00:00\", \"Positif\": 219, \"Negatif\": 1685, \"D\\u00e9c\\u00e9d\\u00e9\": 2.0, \"Gu\\u00e9ri\": 81.0}, {\"Date\": \"2020-04-05T00:00:00\", \"Positif\": 222, \"Negatif\": 1774, \"D\\u00e9c\\u00e9d\\u00e9\": 2.0, \"Gu\\u00e9ri\": 81.0}]}}, {\"mode\": \"vega-lite\"});\n",
       "</script>"
      ],
      "text/plain": [
       "alt.Chart(...)"
      ]
     },
     "execution_count": 99,
     "metadata": {},
     "output_type": "execute_result"
    }
   ],
   "source": [
    "alt.Chart(df_cumulative_sums).mark_line().encode(\n",
    "    x='Date',\n",
    "    y='Guéri'\n",
    ")"
   ]
  },
  {
   "cell_type": "markdown",
   "metadata": {},
   "source": [
    "**Q6**: Combine both lines on the same Altair plot (you might need to use the transform_fold option"
   ]
  },
  {
   "cell_type": "code",
   "execution_count": 105,
   "metadata": {},
   "outputs": [
    {
     "data": {
      "text/html": [
       "\n",
       "<style>\n",
       "  #altair-viz-69e6028f22ae4c079f46713693170a60.vega-embed {\n",
       "    width: 100%;\n",
       "    display: flex;\n",
       "  }\n",
       "\n",
       "  #altair-viz-69e6028f22ae4c079f46713693170a60.vega-embed details,\n",
       "  #altair-viz-69e6028f22ae4c079f46713693170a60.vega-embed details summary {\n",
       "    position: relative;\n",
       "  }\n",
       "</style>\n",
       "<div id=\"altair-viz-69e6028f22ae4c079f46713693170a60\"></div>\n",
       "<script type=\"text/javascript\">\n",
       "  var VEGA_DEBUG = (typeof VEGA_DEBUG == \"undefined\") ? {} : VEGA_DEBUG;\n",
       "  (function(spec, embedOpt){\n",
       "    let outputDiv = document.currentScript.previousElementSibling;\n",
       "    if (outputDiv.id !== \"altair-viz-69e6028f22ae4c079f46713693170a60\") {\n",
       "      outputDiv = document.getElementById(\"altair-viz-69e6028f22ae4c079f46713693170a60\");\n",
       "    }\n",
       "    const paths = {\n",
       "      \"vega\": \"https://cdn.jsdelivr.net/npm/vega@5?noext\",\n",
       "      \"vega-lib\": \"https://cdn.jsdelivr.net/npm/vega-lib?noext\",\n",
       "      \"vega-lite\": \"https://cdn.jsdelivr.net/npm/vega-lite@5.14.1?noext\",\n",
       "      \"vega-embed\": \"https://cdn.jsdelivr.net/npm/vega-embed@6?noext\",\n",
       "    };\n",
       "\n",
       "    function maybeLoadScript(lib, version) {\n",
       "      var key = `${lib.replace(\"-\", \"\")}_version`;\n",
       "      return (VEGA_DEBUG[key] == version) ?\n",
       "        Promise.resolve(paths[lib]) :\n",
       "        new Promise(function(resolve, reject) {\n",
       "          var s = document.createElement('script');\n",
       "          document.getElementsByTagName(\"head\")[0].appendChild(s);\n",
       "          s.async = true;\n",
       "          s.onload = () => {\n",
       "            VEGA_DEBUG[key] = version;\n",
       "            return resolve(paths[lib]);\n",
       "          };\n",
       "          s.onerror = () => reject(`Error loading script: ${paths[lib]}`);\n",
       "          s.src = paths[lib];\n",
       "        });\n",
       "    }\n",
       "\n",
       "    function showError(err) {\n",
       "      outputDiv.innerHTML = `<div class=\"error\" style=\"color:red;\">${err}</div>`;\n",
       "      throw err;\n",
       "    }\n",
       "\n",
       "    function displayChart(vegaEmbed) {\n",
       "      vegaEmbed(outputDiv, spec, embedOpt)\n",
       "        .catch(err => showError(`Javascript Error: ${err.message}<br>This usually means there's a typo in your chart specification. See the javascript console for the full traceback.`));\n",
       "    }\n",
       "\n",
       "    if(typeof define === \"function\" && define.amd) {\n",
       "      requirejs.config({paths});\n",
       "      require([\"vega-embed\"], displayChart, err => showError(`Error loading script: ${err.message}`));\n",
       "    } else {\n",
       "      maybeLoadScript(\"vega\", \"5\")\n",
       "        .then(() => maybeLoadScript(\"vega-lite\", \"5.14.1\"))\n",
       "        .then(() => maybeLoadScript(\"vega-embed\", \"6\"))\n",
       "        .catch(showError)\n",
       "        .then(() => displayChart(vegaEmbed));\n",
       "    }\n",
       "  })({\"config\": {\"view\": {\"continuousWidth\": 300, \"continuousHeight\": 300}}, \"data\": {\"name\": \"data-01b94e54d5a7e15c3c8e817b5f2907e4\"}, \"mark\": {\"type\": \"line\"}, \"encoding\": {\"color\": {\"field\": \"key\", \"type\": \"nominal\"}, \"x\": {\"field\": \"Date\", \"type\": \"temporal\"}, \"y\": {\"field\": \"value\", \"type\": \"quantitative\"}}, \"transform\": [{\"fold\": [\"Positif\", \"Gu\\u00e9ri\"]}], \"$schema\": \"https://vega.github.io/schema/vega-lite/v5.14.1.json\", \"datasets\": {\"data-01b94e54d5a7e15c3c8e817b5f2907e4\": [{\"Date\": \"2020-03-02T00:00:00\", \"Positif\": 1, \"Negatif\": 0, \"D\\u00e9c\\u00e9d\\u00e9\": 0.0, \"Gu\\u00e9ri\": 1.0}, {\"Date\": \"2020-03-03T00:00:00\", \"Positif\": 2, \"Negatif\": 1, \"D\\u00e9c\\u00e9d\\u00e9\": 0.0, \"Gu\\u00e9ri\": 3.0}, {\"Date\": \"2020-03-04T00:00:00\", \"Positif\": 4, \"Negatif\": 1, \"D\\u00e9c\\u00e9d\\u00e9\": 0.0, \"Gu\\u00e9ri\": 5.0}, {\"Date\": \"2020-03-06T00:00:00\", \"Positif\": 4, \"Negatif\": 3, \"D\\u00e9c\\u00e9d\\u00e9\": 0.0, \"Gu\\u00e9ri\": 5.0}, {\"Date\": \"2020-03-07T00:00:00\", \"Positif\": 4, \"Negatif\": 5, \"D\\u00e9c\\u00e9d\\u00e9\": 0.0, \"Gu\\u00e9ri\": 5.0}, {\"Date\": \"2020-03-08T00:00:00\", \"Positif\": 4, \"Negatif\": 7, \"D\\u00e9c\\u00e9d\\u00e9\": 0.0, \"Gu\\u00e9ri\": 5.0}, {\"Date\": \"2020-03-09T00:00:00\", \"Positif\": 4, \"Negatif\": 13, \"D\\u00e9c\\u00e9d\\u00e9\": 0.0, \"Gu\\u00e9ri\": 5.0}, {\"Date\": \"2020-03-10T00:00:00\", \"Positif\": 4, \"Negatif\": 14, \"D\\u00e9c\\u00e9d\\u00e9\": 0.0, \"Gu\\u00e9ri\": 5.0}, {\"Date\": \"2020-03-11T00:00:00\", \"Positif\": 5, \"Negatif\": 21, \"D\\u00e9c\\u00e9d\\u00e9\": 0.0, \"Gu\\u00e9ri\": 6.0}, {\"Date\": \"2020-03-12T00:00:00\", \"Positif\": 10, \"Negatif\": 22, \"D\\u00e9c\\u00e9d\\u00e9\": 0.0, \"Gu\\u00e9ri\": 11.0}, {\"Date\": \"2020-03-13T00:00:00\", \"Positif\": 21, \"Negatif\": 22, \"D\\u00e9c\\u00e9d\\u00e9\": 0.0, \"Gu\\u00e9ri\": 22.0}, {\"Date\": \"2020-03-14T00:00:00\", \"Positif\": 24, \"Negatif\": 22, \"D\\u00e9c\\u00e9d\\u00e9\": 0.0, \"Gu\\u00e9ri\": 25.0}, {\"Date\": \"2020-03-15T00:00:00\", \"Positif\": 26, \"Negatif\": 22, \"D\\u00e9c\\u00e9d\\u00e9\": 0.0, \"Gu\\u00e9ri\": 27.0}, {\"Date\": \"2020-03-16T00:00:00\", \"Positif\": 27, \"Negatif\": 30, \"D\\u00e9c\\u00e9d\\u00e9\": 0.0, \"Gu\\u00e9ri\": 28.0}, {\"Date\": \"2020-03-17T00:00:00\", \"Positif\": 31, \"Negatif\": 70, \"D\\u00e9c\\u00e9d\\u00e9\": 0.0, \"Gu\\u00e9ri\": 32.0}, {\"Date\": \"2020-03-18T00:00:00\", \"Positif\": 36, \"Negatif\": 92, \"D\\u00e9c\\u00e9d\\u00e9\": 0.0, \"Gu\\u00e9ri\": 37.0}, {\"Date\": \"2020-03-19T00:00:00\", \"Positif\": 38, \"Negatif\": 112, \"D\\u00e9c\\u00e9d\\u00e9\": 0.0, \"Gu\\u00e9ri\": 39.0}, {\"Date\": \"2020-03-20T00:00:00\", \"Positif\": 47, \"Negatif\": 159, \"D\\u00e9c\\u00e9d\\u00e9\": 0.0, \"Gu\\u00e9ri\": 48.0}, {\"Date\": \"2020-03-21T00:00:00\", \"Positif\": 56, \"Negatif\": 181, \"D\\u00e9c\\u00e9d\\u00e9\": 0.0, \"Gu\\u00e9ri\": 57.0}, {\"Date\": \"2020-03-22T00:00:00\", \"Positif\": 67, \"Negatif\": 255, \"D\\u00e9c\\u00e9d\\u00e9\": 1.0, \"Gu\\u00e9ri\": 67.0}, {\"Date\": \"2020-03-23T00:00:00\", \"Positif\": 79, \"Negatif\": 304, \"D\\u00e9c\\u00e9d\\u00e9\": 1.0, \"Gu\\u00e9ri\": 79.0}, {\"Date\": \"2020-03-24T00:00:00\", \"Positif\": 86, \"Negatif\": 356, \"D\\u00e9c\\u00e9d\\u00e9\": 1.0, \"Gu\\u00e9ri\": 81.0}, {\"Date\": \"2020-03-25T00:00:00\", \"Positif\": 99, \"Negatif\": 485, \"D\\u00e9c\\u00e9d\\u00e9\": 1.0, \"Gu\\u00e9ri\": 81.0}, {\"Date\": \"2020-03-26T00:00:00\", \"Positif\": 105, \"Negatif\": 609, \"D\\u00e9c\\u00e9d\\u00e9\": 1.0, \"Gu\\u00e9ri\": 81.0}, {\"Date\": \"2020-03-27T00:00:00\", \"Positif\": 119, \"Negatif\": 739, \"D\\u00e9c\\u00e9d\\u00e9\": 1.0, \"Gu\\u00e9ri\": 81.0}, {\"Date\": \"2020-03-28T00:00:00\", \"Positif\": 130, \"Negatif\": 826, \"D\\u00e9c\\u00e9d\\u00e9\": 1.0, \"Gu\\u00e9ri\": 81.0}, {\"Date\": \"2020-03-29T00:00:00\", \"Positif\": 141, \"Negatif\": 966, \"D\\u00e9c\\u00e9d\\u00e9\": 1.0, \"Gu\\u00e9ri\": 81.0}, {\"Date\": \"2020-03-30T00:00:00\", \"Positif\": 161, \"Negatif\": 1033, \"D\\u00e9c\\u00e9d\\u00e9\": 1.0, \"Gu\\u00e9ri\": 81.0}, {\"Date\": \"2020-03-31T00:00:00\", \"Positif\": 175, \"Negatif\": 1117, \"D\\u00e9c\\u00e9d\\u00e9\": 2.0, \"Gu\\u00e9ri\": 81.0}, {\"Date\": \"2020-04-01T00:00:00\", \"Positif\": 190, \"Negatif\": 1297, \"D\\u00e9c\\u00e9d\\u00e9\": 2.0, \"Gu\\u00e9ri\": 81.0}, {\"Date\": \"2020-04-02T00:00:00\", \"Positif\": 195, \"Negatif\": 1379, \"D\\u00e9c\\u00e9d\\u00e9\": 2.0, \"Gu\\u00e9ri\": 81.0}, {\"Date\": \"2020-04-03T00:00:00\", \"Positif\": 207, \"Negatif\": 1520, \"D\\u00e9c\\u00e9d\\u00e9\": 2.0, \"Gu\\u00e9ri\": 81.0}, {\"Date\": \"2020-04-04T00:00:00\", \"Positif\": 219, \"Negatif\": 1685, \"D\\u00e9c\\u00e9d\\u00e9\": 2.0, \"Gu\\u00e9ri\": 81.0}, {\"Date\": \"2020-04-05T00:00:00\", \"Positif\": 222, \"Negatif\": 1774, \"D\\u00e9c\\u00e9d\\u00e9\": 2.0, \"Gu\\u00e9ri\": 81.0}]}}, {\"mode\": \"vega-lite\"});\n",
       "</script>"
      ],
      "text/plain": [
       "alt.Chart(...)"
      ]
     },
     "execution_count": 105,
     "metadata": {},
     "output_type": "execute_result"
    }
   ],
   "source": [
    "alt.Chart(df_cumulative_sums)\\\n",
    "    .mark_line()\\\n",
    "    .transform_fold(['Positif', 'Guéri'])\\\n",
    "    .encode(\n",
    "        x='Date:T',\n",
    "        y='value:Q',\n",
    "        color='key:N'\n",
    "    )"
   ]
  },
  {
   "cell_type": "markdown",
   "metadata": {},
   "source": [
    "**Q7**: Build a dataframe with the evolution of the number of imported, contact and community cases in Senegal."
   ]
  },
  {
   "cell_type": "code",
   "execution_count": 165,
   "metadata": {},
   "outputs": [
    {
     "data": {
      "text/plain": [
       "Facteur\n",
       "Contact       125\n",
       "Importé        86\n",
       "Communauté     12\n",
       "Name: count, dtype: int64"
      ]
     },
     "execution_count": 165,
     "metadata": {},
     "output_type": "execute_result"
    }
   ],
   "source": [
    "df['Facteur'].value_counts()"
   ]
  },
  {
   "cell_type": "code",
   "execution_count": 209,
   "metadata": {},
   "outputs": [
    {
     "data": {
      "text/html": [
       "<div>\n",
       "<style scoped>\n",
       "    .dataframe tbody tr th:only-of-type {\n",
       "        vertical-align: middle;\n",
       "    }\n",
       "\n",
       "    .dataframe tbody tr th {\n",
       "        vertical-align: top;\n",
       "    }\n",
       "\n",
       "    .dataframe thead th {\n",
       "        text-align: right;\n",
       "    }\n",
       "</style>\n",
       "<table border=\"1\" class=\"dataframe\">\n",
       "  <thead>\n",
       "    <tr style=\"text-align: right;\">\n",
       "      <th></th>\n",
       "      <th>Date</th>\n",
       "      <th>Communauté</th>\n",
       "      <th>Contact</th>\n",
       "      <th>Importé</th>\n",
       "    </tr>\n",
       "  </thead>\n",
       "  <tbody>\n",
       "    <tr>\n",
       "      <th>33</th>\n",
       "      <td>2020-04-05</td>\n",
       "      <td>12</td>\n",
       "      <td>125</td>\n",
       "      <td>86</td>\n",
       "    </tr>\n",
       "    <tr>\n",
       "      <th>32</th>\n",
       "      <td>2020-04-04</td>\n",
       "      <td>11</td>\n",
       "      <td>123</td>\n",
       "      <td>86</td>\n",
       "    </tr>\n",
       "    <tr>\n",
       "      <th>31</th>\n",
       "      <td>2020-04-03</td>\n",
       "      <td>10</td>\n",
       "      <td>113</td>\n",
       "      <td>85</td>\n",
       "    </tr>\n",
       "    <tr>\n",
       "      <th>30</th>\n",
       "      <td>2020-04-02</td>\n",
       "      <td>10</td>\n",
       "      <td>108</td>\n",
       "      <td>78</td>\n",
       "    </tr>\n",
       "    <tr>\n",
       "      <th>29</th>\n",
       "      <td>2020-04-01</td>\n",
       "      <td>10</td>\n",
       "      <td>105</td>\n",
       "      <td>76</td>\n",
       "    </tr>\n",
       "    <tr>\n",
       "      <th>28</th>\n",
       "      <td>2020-03-31</td>\n",
       "      <td>10</td>\n",
       "      <td>91</td>\n",
       "      <td>75</td>\n",
       "    </tr>\n",
       "    <tr>\n",
       "      <th>27</th>\n",
       "      <td>2020-03-30</td>\n",
       "      <td>10</td>\n",
       "      <td>79</td>\n",
       "      <td>74</td>\n",
       "    </tr>\n",
       "    <tr>\n",
       "      <th>26</th>\n",
       "      <td>2020-03-29</td>\n",
       "      <td>9</td>\n",
       "      <td>65</td>\n",
       "      <td>69</td>\n",
       "    </tr>\n",
       "    <tr>\n",
       "      <th>25</th>\n",
       "      <td>2020-03-28</td>\n",
       "      <td>9</td>\n",
       "      <td>57</td>\n",
       "      <td>65</td>\n",
       "    </tr>\n",
       "    <tr>\n",
       "      <th>24</th>\n",
       "      <td>2020-03-27</td>\n",
       "      <td>8</td>\n",
       "      <td>49</td>\n",
       "      <td>63</td>\n",
       "    </tr>\n",
       "  </tbody>\n",
       "</table>\n",
       "</div>"
      ],
      "text/plain": [
       "         Date  Communauté  Contact  Importé\n",
       "33 2020-04-05          12      125       86\n",
       "32 2020-04-04          11      123       86\n",
       "31 2020-04-03          10      113       85\n",
       "30 2020-04-02          10      108       78\n",
       "29 2020-04-01          10      105       76\n",
       "28 2020-03-31          10       91       75\n",
       "27 2020-03-30          10       79       74\n",
       "26 2020-03-29           9       65       69\n",
       "25 2020-03-28           9       57       65\n",
       "24 2020-03-27           8       49       63"
      ]
     },
     "execution_count": 209,
     "metadata": {},
     "output_type": "execute_result"
    }
   ],
   "source": [
    "df_cumulative_factors = pd.get_dummies(df[['Date', 'Facteur']], prefix='', prefix_sep='',dtype=int)\\\n",
    "    .groupby(['Date'])[['Communauté', 'Contact', 'Importé']]\\\n",
    "    .sum()\\\n",
    "    .cumsum()\\\n",
    "    .reset_index()\n",
    "    \n",
    "df_cumulative_factors.sort_values(by='Date', ascending=False).head(10)"
   ]
  },
  {
   "cell_type": "markdown",
   "metadata": {},
   "source": [
    "**Q8**: What is the total number of imported cases? Of contact or community cases?"
   ]
  },
  {
   "cell_type": "code",
   "execution_count": 216,
   "metadata": {},
   "outputs": [
    {
     "data": {
      "text/plain": [
       "Facteur\n",
       "Contact       125\n",
       "Importé        86\n",
       "Communauté     12\n",
       "Name: count, dtype: int64"
      ]
     },
     "execution_count": 216,
     "metadata": {},
     "output_type": "execute_result"
    }
   ],
   "source": [
    "df['Facteur'].value_counts()"
   ]
  },
  {
   "cell_type": "markdown",
   "metadata": {},
   "source": [
    "**Q9**: Plot the evolution of these metrics using Matplotlib"
   ]
  },
  {
   "cell_type": "code",
   "execution_count": 210,
   "metadata": {},
   "outputs": [
    {
     "data": {
      "text/plain": [
       "<Axes: xlabel='Date', ylabel='Cumulative number of factors'>"
      ]
     },
     "execution_count": 210,
     "metadata": {},
     "output_type": "execute_result"
    },
    {
     "data": {
      "image/png": "[encoded data removed]",
      "text/plain": [
       "<Figure size 640x480 with 1 Axes>"
      ]
     },
     "metadata": {},
     "output_type": "display_data"
    }
   ],
   "source": [
    "df_cumulative_factors.plot(\n",
    "    x=\"Date\",\n",
    "    y=['Communauté', 'Contact', 'Importé'],\n",
    "    kind='line',\n",
    "    ylabel='Cumulative number of factors'\n",
    ")"
   ]
  },
  {
   "cell_type": "markdown",
   "metadata": {},
   "source": [
    "**Q10**: Plot the same information with Altair"
   ]
  },
  {
   "cell_type": "code",
   "execution_count": 215,
   "metadata": {},
   "outputs": [
    {
     "data": {
      "text/html": [
       "\n",
       "<style>\n",
       "  #altair-viz-75b654db9d50457f8001fa541285ab6e.vega-embed {\n",
       "    width: 100%;\n",
       "    display: flex;\n",
       "  }\n",
       "\n",
       "  #altair-viz-75b654db9d50457f8001fa541285ab6e.vega-embed details,\n",
       "  #altair-viz-75b654db9d50457f8001fa541285ab6e.vega-embed details summary {\n",
       "    position: relative;\n",
       "  }\n",
       "</style>\n",
       "<div id=\"altair-viz-75b654db9d50457f8001fa541285ab6e\"></div>\n",
       "<script type=\"text/javascript\">\n",
       "  var VEGA_DEBUG = (typeof VEGA_DEBUG == \"undefined\") ? {} : VEGA_DEBUG;\n",
       "  (function(spec, embedOpt){\n",
       "    let outputDiv = document.currentScript.previousElementSibling;\n",
       "    if (outputDiv.id !== \"altair-viz-75b654db9d50457f8001fa541285ab6e\") {\n",
       "      outputDiv = document.getElementById(\"altair-viz-75b654db9d50457f8001fa541285ab6e\");\n",
       "    }\n",
       "    const paths = {\n",
       "      \"vega\": \"https://cdn.jsdelivr.net/npm/vega@5?noext\",\n",
       "      \"vega-lib\": \"https://cdn.jsdelivr.net/npm/vega-lib?noext\",\n",
       "      \"vega-lite\": \"https://cdn.jsdelivr.net/npm/vega-lite@5.14.1?noext\",\n",
       "      \"vega-embed\": \"https://cdn.jsdelivr.net/npm/vega-embed@6?noext\",\n",
       "    };\n",
       "\n",
       "    function maybeLoadScript(lib, version) {\n",
       "      var key = `${lib.replace(\"-\", \"\")}_version`;\n",
       "      return (VEGA_DEBUG[key] == version) ?\n",
       "        Promise.resolve(paths[lib]) :\n",
       "        new Promise(function(resolve, reject) {\n",
       "          var s = document.createElement('script');\n",
       "          document.getElementsByTagName(\"head\")[0].appendChild(s);\n",
       "          s.async = true;\n",
       "          s.onload = () => {\n",
       "            VEGA_DEBUG[key] = version;\n",
       "            return resolve(paths[lib]);\n",
       "          };\n",
       "          s.onerror = () => reject(`Error loading script: ${paths[lib]}`);\n",
       "          s.src = paths[lib];\n",
       "        });\n",
       "    }\n",
       "\n",
       "    function showError(err) {\n",
       "      outputDiv.innerHTML = `<div class=\"error\" style=\"color:red;\">${err}</div>`;\n",
       "      throw err;\n",
       "    }\n",
       "\n",
       "    function displayChart(vegaEmbed) {\n",
       "      vegaEmbed(outputDiv, spec, embedOpt)\n",
       "        .catch(err => showError(`Javascript Error: ${err.message}<br>This usually means there's a typo in your chart specification. See the javascript console for the full traceback.`));\n",
       "    }\n",
       "\n",
       "    if(typeof define === \"function\" && define.amd) {\n",
       "      requirejs.config({paths});\n",
       "      require([\"vega-embed\"], displayChart, err => showError(`Error loading script: ${err.message}`));\n",
       "    } else {\n",
       "      maybeLoadScript(\"vega\", \"5\")\n",
       "        .then(() => maybeLoadScript(\"vega-lite\", \"5.14.1\"))\n",
       "        .then(() => maybeLoadScript(\"vega-embed\", \"6\"))\n",
       "        .catch(showError)\n",
       "        .then(() => displayChart(vegaEmbed));\n",
       "    }\n",
       "  })({\"config\": {\"view\": {\"continuousWidth\": 300, \"continuousHeight\": 300}}, \"data\": {\"name\": \"data-189cd0cecfac061bd8f53a2a917dfa37\"}, \"mark\": {\"type\": \"line\"}, \"encoding\": {\"color\": {\"field\": \"key\", \"type\": \"nominal\"}, \"x\": {\"field\": \"Date\", \"type\": \"temporal\"}, \"y\": {\"field\": \"value\", \"type\": \"quantitative\"}}, \"transform\": [{\"fold\": [\"Communaut\\u00e9\", \"Contact\", \"Import\\u00e9\"]}], \"$schema\": \"https://vega.github.io/schema/vega-lite/v5.14.1.json\", \"datasets\": {\"data-189cd0cecfac061bd8f53a2a917dfa37\": [{\"Date\": \"2020-03-02T00:00:00\", \"Communaut\\u00e9\": 0, \"Contact\": 0, \"Import\\u00e9\": 1}, {\"Date\": \"2020-03-03T00:00:00\", \"Communaut\\u00e9\": 0, \"Contact\": 0, \"Import\\u00e9\": 3}, {\"Date\": \"2020-03-04T00:00:00\", \"Communaut\\u00e9\": 0, \"Contact\": 0, \"Import\\u00e9\": 5}, {\"Date\": \"2020-03-06T00:00:00\", \"Communaut\\u00e9\": 0, \"Contact\": 0, \"Import\\u00e9\": 5}, {\"Date\": \"2020-03-07T00:00:00\", \"Communaut\\u00e9\": 0, \"Contact\": 0, \"Import\\u00e9\": 5}, {\"Date\": \"2020-03-08T00:00:00\", \"Communaut\\u00e9\": 0, \"Contact\": 0, \"Import\\u00e9\": 5}, {\"Date\": \"2020-03-09T00:00:00\", \"Communaut\\u00e9\": 0, \"Contact\": 0, \"Import\\u00e9\": 5}, {\"Date\": \"2020-03-10T00:00:00\", \"Communaut\\u00e9\": 0, \"Contact\": 0, \"Import\\u00e9\": 5}, {\"Date\": \"2020-03-11T00:00:00\", \"Communaut\\u00e9\": 0, \"Contact\": 0, \"Import\\u00e9\": 6}, {\"Date\": \"2020-03-12T00:00:00\", \"Communaut\\u00e9\": 0, \"Contact\": 5, \"Import\\u00e9\": 6}, {\"Date\": \"2020-03-13T00:00:00\", \"Communaut\\u00e9\": 0, \"Contact\": 16, \"Import\\u00e9\": 6}, {\"Date\": \"2020-03-14T00:00:00\", \"Communaut\\u00e9\": 0, \"Contact\": 17, \"Import\\u00e9\": 8}, {\"Date\": \"2020-03-15T00:00:00\", \"Communaut\\u00e9\": 0, \"Contact\": 18, \"Import\\u00e9\": 9}, {\"Date\": \"2020-03-16T00:00:00\", \"Communaut\\u00e9\": 0, \"Contact\": 18, \"Import\\u00e9\": 10}, {\"Date\": \"2020-03-17T00:00:00\", \"Communaut\\u00e9\": 0, \"Contact\": 19, \"Import\\u00e9\": 13}, {\"Date\": \"2020-03-18T00:00:00\", \"Communaut\\u00e9\": 0, \"Contact\": 21, \"Import\\u00e9\": 16}, {\"Date\": \"2020-03-19T00:00:00\", \"Communaut\\u00e9\": 0, \"Contact\": 21, \"Import\\u00e9\": 18}, {\"Date\": \"2020-03-20T00:00:00\", \"Communaut\\u00e9\": 0, \"Contact\": 26, \"Import\\u00e9\": 22}, {\"Date\": \"2020-03-21T00:00:00\", \"Communaut\\u00e9\": 3, \"Contact\": 27, \"Import\\u00e9\": 27}, {\"Date\": \"2020-03-22T00:00:00\", \"Communaut\\u00e9\": 3, \"Contact\": 32, \"Import\\u00e9\": 33}, {\"Date\": \"2020-03-23T00:00:00\", \"Communaut\\u00e9\": 7, \"Contact\": 34, \"Import\\u00e9\": 39}, {\"Date\": \"2020-03-24T00:00:00\", \"Communaut\\u00e9\": 7, \"Contact\": 38, \"Import\\u00e9\": 42}, {\"Date\": \"2020-03-25T00:00:00\", \"Communaut\\u00e9\": 7, \"Contact\": 46, \"Import\\u00e9\": 47}, {\"Date\": \"2020-03-26T00:00:00\", \"Communaut\\u00e9\": 7, \"Contact\": 47, \"Import\\u00e9\": 52}, {\"Date\": \"2020-03-27T00:00:00\", \"Communaut\\u00e9\": 8, \"Contact\": 49, \"Import\\u00e9\": 63}, {\"Date\": \"2020-03-28T00:00:00\", \"Communaut\\u00e9\": 9, \"Contact\": 57, \"Import\\u00e9\": 65}, {\"Date\": \"2020-03-29T00:00:00\", \"Communaut\\u00e9\": 9, \"Contact\": 65, \"Import\\u00e9\": 69}, {\"Date\": \"2020-03-30T00:00:00\", \"Communaut\\u00e9\": 10, \"Contact\": 79, \"Import\\u00e9\": 74}, {\"Date\": \"2020-03-31T00:00:00\", \"Communaut\\u00e9\": 10, \"Contact\": 91, \"Import\\u00e9\": 75}, {\"Date\": \"2020-04-01T00:00:00\", \"Communaut\\u00e9\": 10, \"Contact\": 105, \"Import\\u00e9\": 76}, {\"Date\": \"2020-04-02T00:00:00\", \"Communaut\\u00e9\": 10, \"Contact\": 108, \"Import\\u00e9\": 78}, {\"Date\": \"2020-04-03T00:00:00\", \"Communaut\\u00e9\": 10, \"Contact\": 113, \"Import\\u00e9\": 85}, {\"Date\": \"2020-04-04T00:00:00\", \"Communaut\\u00e9\": 11, \"Contact\": 123, \"Import\\u00e9\": 86}, {\"Date\": \"2020-04-05T00:00:00\", \"Communaut\\u00e9\": 12, \"Contact\": 125, \"Import\\u00e9\": 86}]}}, {\"mode\": \"vega-lite\"});\n",
       "</script>"
      ],
      "text/plain": [
       "alt.Chart(...)"
      ]
     },
     "execution_count": 215,
     "metadata": {},
     "output_type": "execute_result"
    }
   ],
   "source": [
    "alt.Chart(df_cumulative_factors)\\\n",
    "    .mark_line()\\\n",
    "    .transform_fold(['Communauté', 'Contact', 'Importé'])\\\n",
    "    .encode(\n",
    "        x='Date:T',\n",
    "        y='value:Q',\n",
    "        color='key:N'\n",
    "    )"
   ]
  },
  {
   "cell_type": "markdown",
   "metadata": {},
   "source": [
    "**Q11**: With Altair, do a histogram of the origin of infection (country for contact cases)"
   ]
  },
  {
   "cell_type": "code",
   "execution_count": 218,
   "metadata": {},
   "outputs": [
    {
     "data": {
      "text/html": [
       "<div>\n",
       "<style scoped>\n",
       "    .dataframe tbody tr th:only-of-type {\n",
       "        vertical-align: middle;\n",
       "    }\n",
       "\n",
       "    .dataframe tbody tr th {\n",
       "        vertical-align: top;\n",
       "    }\n",
       "\n",
       "    .dataframe thead th {\n",
       "        text-align: right;\n",
       "    }\n",
       "</style>\n",
       "<table border=\"1\" class=\"dataframe\">\n",
       "  <thead>\n",
       "    <tr style=\"text-align: right;\">\n",
       "      <th></th>\n",
       "      <th>Date</th>\n",
       "      <th>Positif</th>\n",
       "      <th>Negatif</th>\n",
       "      <th>Age</th>\n",
       "      <th>Homme</th>\n",
       "      <th>Femme</th>\n",
       "      <th>Décédé</th>\n",
       "      <th>Guéri</th>\n",
       "      <th>Nationalité</th>\n",
       "      <th>Resident Senegal</th>\n",
       "      <th>Ville</th>\n",
       "      <th>Facteur</th>\n",
       "      <th>Source/Voyage</th>\n",
       "      <th>Hopital</th>\n",
       "      <th>Temps Hospitalisation (j)</th>\n",
       "    </tr>\n",
       "  </thead>\n",
       "  <tbody>\n",
       "    <tr>\n",
       "      <th>0</th>\n",
       "      <td>2020-03-02</td>\n",
       "      <td>1</td>\n",
       "      <td>0</td>\n",
       "      <td>68.0</td>\n",
       "      <td>1.0</td>\n",
       "      <td>0.0</td>\n",
       "      <td>0.0</td>\n",
       "      <td>1.0</td>\n",
       "      <td>France</td>\n",
       "      <td>Oui</td>\n",
       "      <td>Dakar</td>\n",
       "      <td>Importé</td>\n",
       "      <td>France</td>\n",
       "      <td>FANN</td>\n",
       "      <td>4.0</td>\n",
       "    </tr>\n",
       "    <tr>\n",
       "      <th>1</th>\n",
       "      <td>2020-03-03</td>\n",
       "      <td>0</td>\n",
       "      <td>1</td>\n",
       "      <td>NaN</td>\n",
       "      <td>1.0</td>\n",
       "      <td>0.0</td>\n",
       "      <td>0.0</td>\n",
       "      <td>1.0</td>\n",
       "      <td>Gambie</td>\n",
       "      <td>Non</td>\n",
       "      <td>Dakar</td>\n",
       "      <td>Importé</td>\n",
       "      <td>Espagne</td>\n",
       "      <td>FANN</td>\n",
       "      <td>NaN</td>\n",
       "    </tr>\n",
       "    <tr>\n",
       "      <th>2</th>\n",
       "      <td>2020-03-03</td>\n",
       "      <td>1</td>\n",
       "      <td>0</td>\n",
       "      <td>80.0</td>\n",
       "      <td>1.0</td>\n",
       "      <td>0.0</td>\n",
       "      <td>0.0</td>\n",
       "      <td>1.0</td>\n",
       "      <td>France</td>\n",
       "      <td>Non</td>\n",
       "      <td>Dakar</td>\n",
       "      <td>Importé</td>\n",
       "      <td>France</td>\n",
       "      <td>FANN</td>\n",
       "      <td>10.0</td>\n",
       "    </tr>\n",
       "    <tr>\n",
       "      <th>3</th>\n",
       "      <td>2020-03-04</td>\n",
       "      <td>1</td>\n",
       "      <td>0</td>\n",
       "      <td>68.0</td>\n",
       "      <td>0.0</td>\n",
       "      <td>1.0</td>\n",
       "      <td>0.0</td>\n",
       "      <td>1.0</td>\n",
       "      <td>France</td>\n",
       "      <td>Non</td>\n",
       "      <td>Dakar</td>\n",
       "      <td>Importé</td>\n",
       "      <td>France</td>\n",
       "      <td>FANN</td>\n",
       "      <td>15.0</td>\n",
       "    </tr>\n",
       "    <tr>\n",
       "      <th>4</th>\n",
       "      <td>2020-03-04</td>\n",
       "      <td>1</td>\n",
       "      <td>0</td>\n",
       "      <td>33.0</td>\n",
       "      <td>0.0</td>\n",
       "      <td>1.0</td>\n",
       "      <td>0.0</td>\n",
       "      <td>1.0</td>\n",
       "      <td>Angleterre</td>\n",
       "      <td>Non</td>\n",
       "      <td>Dakar</td>\n",
       "      <td>Importé</td>\n",
       "      <td>Angleterre</td>\n",
       "      <td>FANN</td>\n",
       "      <td>7.0</td>\n",
       "    </tr>\n",
       "  </tbody>\n",
       "</table>\n",
       "</div>"
      ],
      "text/plain": [
       "        Date  Positif  Negatif   Age  Homme  Femme  Décédé  Guéri Nationalité  \\\n",
       "0 2020-03-02        1        0  68.0    1.0    0.0     0.0    1.0      France   \n",
       "1 2020-03-03        0        1   NaN    1.0    0.0     0.0    1.0      Gambie   \n",
       "2 2020-03-03        1        0  80.0    1.0    0.0     0.0    1.0      France   \n",
       "3 2020-03-04        1        0  68.0    0.0    1.0     0.0    1.0      France   \n",
       "4 2020-03-04        1        0  33.0    0.0    1.0     0.0    1.0  Angleterre   \n",
       "\n",
       "  Resident Senegal  Ville  Facteur Source/Voyage Hopital  \\\n",
       "0              Oui  Dakar  Importé        France    FANN   \n",
       "1              Non  Dakar  Importé       Espagne    FANN   \n",
       "2              Non  Dakar  Importé        France    FANN   \n",
       "3              Non  Dakar  Importé        France    FANN   \n",
       "4              Non  Dakar  Importé    Angleterre    FANN   \n",
       "\n",
       "   Temps Hospitalisation (j)  \n",
       "0                        4.0  \n",
       "1                        NaN  \n",
       "2                       10.0  \n",
       "3                       15.0  \n",
       "4                        7.0  "
      ]
     },
     "execution_count": 218,
     "metadata": {},
     "output_type": "execute_result"
    }
   ],
   "source": [
    "df.head()"
   ]
  },
  {
   "cell_type": "code",
   "execution_count": 250,
   "metadata": {},
   "outputs": [
    {
     "data": {
      "text/plain": [
       "Source/Voyage\n",
       "Italie        21\n",
       "France         6\n",
       "Espagne        2\n",
       "Angleterre     1\n",
       "Name: count, dtype: int64"
      ]
     },
     "execution_count": 250,
     "metadata": {},
     "output_type": "execute_result"
    }
   ],
   "source": [
    "df[df['Source/Voyage'].notna() & df['Positif'] == 1]['Source/Voyage'].value_counts(dropna=False)"
   ]
  },
  {
   "cell_type": "code",
   "execution_count": 253,
   "metadata": {},
   "outputs": [
    {
     "data": {
      "text/html": [
       "<div>\n",
       "<style scoped>\n",
       "    .dataframe tbody tr th:only-of-type {\n",
       "        vertical-align: middle;\n",
       "    }\n",
       "\n",
       "    .dataframe tbody tr th {\n",
       "        vertical-align: top;\n",
       "    }\n",
       "\n",
       "    .dataframe thead th {\n",
       "        text-align: right;\n",
       "    }\n",
       "</style>\n",
       "<table border=\"1\" class=\"dataframe\">\n",
       "  <thead>\n",
       "    <tr style=\"text-align: right;\">\n",
       "      <th></th>\n",
       "      <th>Date</th>\n",
       "      <th>Positif</th>\n",
       "      <th>Negatif</th>\n",
       "      <th>Age</th>\n",
       "      <th>Homme</th>\n",
       "      <th>Femme</th>\n",
       "      <th>Décédé</th>\n",
       "      <th>Guéri</th>\n",
       "      <th>Nationalité</th>\n",
       "      <th>Resident Senegal</th>\n",
       "      <th>Ville</th>\n",
       "      <th>Facteur</th>\n",
       "      <th>Source/Voyage</th>\n",
       "      <th>Hopital</th>\n",
       "      <th>Temps Hospitalisation (j)</th>\n",
       "    </tr>\n",
       "  </thead>\n",
       "  <tbody>\n",
       "    <tr>\n",
       "      <th>0</th>\n",
       "      <td>2020-03-02</td>\n",
       "      <td>1</td>\n",
       "      <td>0</td>\n",
       "      <td>68.0</td>\n",
       "      <td>1.0</td>\n",
       "      <td>0.0</td>\n",
       "      <td>0.0</td>\n",
       "      <td>1.0</td>\n",
       "      <td>France</td>\n",
       "      <td>Oui</td>\n",
       "      <td>Dakar</td>\n",
       "      <td>Importé</td>\n",
       "      <td>France</td>\n",
       "      <td>FANN</td>\n",
       "      <td>4.0</td>\n",
       "    </tr>\n",
       "    <tr>\n",
       "      <th>2</th>\n",
       "      <td>2020-03-03</td>\n",
       "      <td>1</td>\n",
       "      <td>0</td>\n",
       "      <td>80.0</td>\n",
       "      <td>1.0</td>\n",
       "      <td>0.0</td>\n",
       "      <td>0.0</td>\n",
       "      <td>1.0</td>\n",
       "      <td>France</td>\n",
       "      <td>Non</td>\n",
       "      <td>Dakar</td>\n",
       "      <td>Importé</td>\n",
       "      <td>France</td>\n",
       "      <td>FANN</td>\n",
       "      <td>10.0</td>\n",
       "    </tr>\n",
       "    <tr>\n",
       "      <th>3</th>\n",
       "      <td>2020-03-04</td>\n",
       "      <td>1</td>\n",
       "      <td>0</td>\n",
       "      <td>68.0</td>\n",
       "      <td>0.0</td>\n",
       "      <td>1.0</td>\n",
       "      <td>0.0</td>\n",
       "      <td>1.0</td>\n",
       "      <td>France</td>\n",
       "      <td>Non</td>\n",
       "      <td>Dakar</td>\n",
       "      <td>Importé</td>\n",
       "      <td>France</td>\n",
       "      <td>FANN</td>\n",
       "      <td>15.0</td>\n",
       "    </tr>\n",
       "    <tr>\n",
       "      <th>4</th>\n",
       "      <td>2020-03-04</td>\n",
       "      <td>1</td>\n",
       "      <td>0</td>\n",
       "      <td>33.0</td>\n",
       "      <td>0.0</td>\n",
       "      <td>1.0</td>\n",
       "      <td>0.0</td>\n",
       "      <td>1.0</td>\n",
       "      <td>Angleterre</td>\n",
       "      <td>Non</td>\n",
       "      <td>Dakar</td>\n",
       "      <td>Importé</td>\n",
       "      <td>Angleterre</td>\n",
       "      <td>FANN</td>\n",
       "      <td>7.0</td>\n",
       "    </tr>\n",
       "    <tr>\n",
       "      <th>18</th>\n",
       "      <td>2020-03-11</td>\n",
       "      <td>1</td>\n",
       "      <td>0</td>\n",
       "      <td>NaN</td>\n",
       "      <td>1.0</td>\n",
       "      <td>0.0</td>\n",
       "      <td>0.0</td>\n",
       "      <td>1.0</td>\n",
       "      <td>Senegal</td>\n",
       "      <td>Non</td>\n",
       "      <td>Dakar</td>\n",
       "      <td>Importé</td>\n",
       "      <td>Italie</td>\n",
       "      <td>FANN</td>\n",
       "      <td>12.0</td>\n",
       "    </tr>\n",
       "  </tbody>\n",
       "</table>\n",
       "</div>"
      ],
      "text/plain": [
       "         Date  Positif  Negatif   Age  Homme  Femme  Décédé  Guéri  \\\n",
       "0  2020-03-02        1        0  68.0    1.0    0.0     0.0    1.0   \n",
       "2  2020-03-03        1        0  80.0    1.0    0.0     0.0    1.0   \n",
       "3  2020-03-04        1        0  68.0    0.0    1.0     0.0    1.0   \n",
       "4  2020-03-04        1        0  33.0    0.0    1.0     0.0    1.0   \n",
       "18 2020-03-11        1        0   NaN    1.0    0.0     0.0    1.0   \n",
       "\n",
       "   Nationalité Resident Senegal  Ville  Facteur Source/Voyage Hopital  \\\n",
       "0       France              Oui  Dakar  Importé        France    FANN   \n",
       "2       France              Non  Dakar  Importé        France    FANN   \n",
       "3       France              Non  Dakar  Importé        France    FANN   \n",
       "4   Angleterre              Non  Dakar  Importé    Angleterre    FANN   \n",
       "18     Senegal              Non  Dakar  Importé        Italie    FANN   \n",
       "\n",
       "    Temps Hospitalisation (j)  \n",
       "0                         4.0  \n",
       "2                        10.0  \n",
       "3                        15.0  \n",
       "4                         7.0  \n",
       "18                       12.0  "
      ]
     },
     "execution_count": 253,
     "metadata": {},
     "output_type": "execute_result"
    }
   ],
   "source": [
    "df_infection_origin = df.loc[df['Source/Voyage'].notna() & df['Positif'] == 1]\n",
    "\n",
    "df_infection_origin.head()"
   ]
  },
  {
   "cell_type": "code",
   "execution_count": 245,
   "metadata": {},
   "outputs": [
    {
     "data": {
      "text/html": [
       "\n",
       "<style>\n",
       "  #altair-viz-2a4ae2d83f1a4366944a8fd4d6855446.vega-embed {\n",
       "    width: 100%;\n",
       "    display: flex;\n",
       "  }\n",
       "\n",
       "  #altair-viz-2a4ae2d83f1a4366944a8fd4d6855446.vega-embed details,\n",
       "  #altair-viz-2a4ae2d83f1a4366944a8fd4d6855446.vega-embed details summary {\n",
       "    position: relative;\n",
       "  }\n",
       "</style>\n",
       "<div id=\"altair-viz-2a4ae2d83f1a4366944a8fd4d6855446\"></div>\n",
       "<script type=\"text/javascript\">\n",
       "  var VEGA_DEBUG = (typeof VEGA_DEBUG == \"undefined\") ? {} : VEGA_DEBUG;\n",
       "  (function(spec, embedOpt){\n",
       "    let outputDiv = document.currentScript.previousElementSibling;\n",
       "    if (outputDiv.id !== \"altair-viz-2a4ae2d83f1a4366944a8fd4d6855446\") {\n",
       "      outputDiv = document.getElementById(\"altair-viz-2a4ae2d83f1a4366944a8fd4d6855446\");\n",
       "    }\n",
       "    const paths = {\n",
       "      \"vega\": \"https://cdn.jsdelivr.net/npm/vega@5?noext\",\n",
       "      \"vega-lib\": \"https://cdn.jsdelivr.net/npm/vega-lib?noext\",\n",
       "      \"vega-lite\": \"https://cdn.jsdelivr.net/npm/vega-lite@5.14.1?noext\",\n",
       "      \"vega-embed\": \"https://cdn.jsdelivr.net/npm/vega-embed@6?noext\",\n",
       "    };\n",
       "\n",
       "    function maybeLoadScript(lib, version) {\n",
       "      var key = `${lib.replace(\"-\", \"\")}_version`;\n",
       "      return (VEGA_DEBUG[key] == version) ?\n",
       "        Promise.resolve(paths[lib]) :\n",
       "        new Promise(function(resolve, reject) {\n",
       "          var s = document.createElement('script');\n",
       "          document.getElementsByTagName(\"head\")[0].appendChild(s);\n",
       "          s.async = true;\n",
       "          s.onload = () => {\n",
       "            VEGA_DEBUG[key] = version;\n",
       "            return resolve(paths[lib]);\n",
       "          };\n",
       "          s.onerror = () => reject(`Error loading script: ${paths[lib]}`);\n",
       "          s.src = paths[lib];\n",
       "        });\n",
       "    }\n",
       "\n",
       "    function showError(err) {\n",
       "      outputDiv.innerHTML = `<div class=\"error\" style=\"color:red;\">${err}</div>`;\n",
       "      throw err;\n",
       "    }\n",
       "\n",
       "    function displayChart(vegaEmbed) {\n",
       "      vegaEmbed(outputDiv, spec, embedOpt)\n",
       "        .catch(err => showError(`Javascript Error: ${err.message}<br>This usually means there's a typo in your chart specification. See the javascript console for the full traceback.`));\n",
       "    }\n",
       "\n",
       "    if(typeof define === \"function\" && define.amd) {\n",
       "      requirejs.config({paths});\n",
       "      require([\"vega-embed\"], displayChart, err => showError(`Error loading script: ${err.message}`));\n",
       "    } else {\n",
       "      maybeLoadScript(\"vega\", \"5\")\n",
       "        .then(() => maybeLoadScript(\"vega-lite\", \"5.14.1\"))\n",
       "        .then(() => maybeLoadScript(\"vega-embed\", \"6\"))\n",
       "        .catch(showError)\n",
       "        .then(() => displayChart(vegaEmbed));\n",
       "    }\n",
       "  })({\"config\": {\"view\": {\"continuousWidth\": 300, \"continuousHeight\": 300}}, \"data\": {\"name\": \"data-24c56ba2777cdbf65bb2cc53df233f7f\"}, \"mark\": {\"type\": \"bar\"}, \"encoding\": {\"x\": {\"field\": \"Source/Voyage\", \"type\": \"nominal\"}, \"y\": {\"aggregate\": \"count\", \"type\": \"quantitative\"}}, \"$schema\": \"https://vega.github.io/schema/vega-lite/v5.14.1.json\", \"datasets\": {\"data-24c56ba2777cdbf65bb2cc53df233f7f\": [{\"Date\": \"2020-03-02T00:00:00\", \"Positif\": 1, \"Negatif\": 0, \"Age\": 68.0, \"Homme\": 1.0, \"Femme\": 0.0, \"D\\u00e9c\\u00e9d\\u00e9\": 0.0, \"Gu\\u00e9ri\": 1.0, \"Nationalit\\u00e9\": \"France\", \"Resident Senegal\": \"Oui\", \"Ville\": \"Dakar\", \"Facteur\": \"Import\\u00e9\", \"Source/Voyage\": \"France\", \"Hopital\": \"FANN\", \"Temps Hospitalisation (j)\": 4.0}, {\"Date\": \"2020-03-03T00:00:00\", \"Positif\": 1, \"Negatif\": 0, \"Age\": 80.0, \"Homme\": 1.0, \"Femme\": 0.0, \"D\\u00e9c\\u00e9d\\u00e9\": 0.0, \"Gu\\u00e9ri\": 1.0, \"Nationalit\\u00e9\": \"France\", \"Resident Senegal\": \"Non\", \"Ville\": \"Dakar\", \"Facteur\": \"Import\\u00e9\", \"Source/Voyage\": \"France\", \"Hopital\": \"FANN\", \"Temps Hospitalisation (j)\": 10.0}, {\"Date\": \"2020-03-04T00:00:00\", \"Positif\": 1, \"Negatif\": 0, \"Age\": 68.0, \"Homme\": 0.0, \"Femme\": 1.0, \"D\\u00e9c\\u00e9d\\u00e9\": 0.0, \"Gu\\u00e9ri\": 1.0, \"Nationalit\\u00e9\": \"France\", \"Resident Senegal\": \"Non\", \"Ville\": \"Dakar\", \"Facteur\": \"Import\\u00e9\", \"Source/Voyage\": \"France\", \"Hopital\": \"FANN\", \"Temps Hospitalisation (j)\": 15.0}, {\"Date\": \"2020-03-04T00:00:00\", \"Positif\": 1, \"Negatif\": 0, \"Age\": 33.0, \"Homme\": 0.0, \"Femme\": 1.0, \"D\\u00e9c\\u00e9d\\u00e9\": 0.0, \"Gu\\u00e9ri\": 1.0, \"Nationalit\\u00e9\": \"Angleterre\", \"Resident Senegal\": \"Non\", \"Ville\": \"Dakar\", \"Facteur\": \"Import\\u00e9\", \"Source/Voyage\": \"Angleterre\", \"Hopital\": \"FANN\", \"Temps Hospitalisation (j)\": 7.0}, {\"Date\": \"2020-03-11T00:00:00\", \"Positif\": 1, \"Negatif\": 0, \"Age\": null, \"Homme\": 1.0, \"Femme\": 0.0, \"D\\u00e9c\\u00e9d\\u00e9\": 0.0, \"Gu\\u00e9ri\": 1.0, \"Nationalit\\u00e9\": \"Senegal\", \"Resident Senegal\": \"Non\", \"Ville\": \"Dakar\", \"Facteur\": \"Import\\u00e9\", \"Source/Voyage\": \"Italie\", \"Hopital\": \"FANN\", \"Temps Hospitalisation (j)\": 12.0}, {\"Date\": \"2020-03-12T00:00:00\", \"Positif\": 1, \"Negatif\": 0, \"Age\": null, \"Homme\": null, \"Femme\": null, \"D\\u00e9c\\u00e9d\\u00e9\": 0.0, \"Gu\\u00e9ri\": 1.0, \"Nationalit\\u00e9\": \"Senegal\", \"Resident Senegal\": \"Oui\", \"Ville\": \"Dakar\", \"Facteur\": \"Contact\", \"Source/Voyage\": \"Italie\", \"Hopital\": \"FANN\", \"Temps Hospitalisation (j)\": null}, {\"Date\": \"2020-03-12T00:00:00\", \"Positif\": 1, \"Negatif\": 0, \"Age\": null, \"Homme\": null, \"Femme\": null, \"D\\u00e9c\\u00e9d\\u00e9\": 0.0, \"Gu\\u00e9ri\": 1.0, \"Nationalit\\u00e9\": \"Senegal\", \"Resident Senegal\": \"Oui\", \"Ville\": \"Dakar\", \"Facteur\": \"Contact\", \"Source/Voyage\": \"Italie\", \"Hopital\": \"FANN\", \"Temps Hospitalisation (j)\": null}, {\"Date\": \"2020-03-12T00:00:00\", \"Positif\": 1, \"Negatif\": 0, \"Age\": null, \"Homme\": null, \"Femme\": null, \"D\\u00e9c\\u00e9d\\u00e9\": 0.0, \"Gu\\u00e9ri\": 1.0, \"Nationalit\\u00e9\": \"Senegal\", \"Resident Senegal\": \"Oui\", \"Ville\": \"Dakar\", \"Facteur\": \"Contact\", \"Source/Voyage\": \"Italie\", \"Hopital\": \"FANN\", \"Temps Hospitalisation (j)\": 16.0}, {\"Date\": \"2020-03-12T00:00:00\", \"Positif\": 1, \"Negatif\": 0, \"Age\": null, \"Homme\": null, \"Femme\": null, \"D\\u00e9c\\u00e9d\\u00e9\": 0.0, \"Gu\\u00e9ri\": 1.0, \"Nationalit\\u00e9\": \"Senegal\", \"Resident Senegal\": \"Oui\", \"Ville\": \"Dakar\", \"Facteur\": \"Contact\", \"Source/Voyage\": \"Italie\", \"Hopital\": \"FANN\", \"Temps Hospitalisation (j)\": null}, {\"Date\": \"2020-03-12T00:00:00\", \"Positif\": 1, \"Negatif\": 0, \"Age\": null, \"Homme\": null, \"Femme\": null, \"D\\u00e9c\\u00e9d\\u00e9\": 0.0, \"Gu\\u00e9ri\": 1.0, \"Nationalit\\u00e9\": \"Senegal\", \"Resident Senegal\": \"Oui\", \"Ville\": \"Dakar\", \"Facteur\": \"Contact\", \"Source/Voyage\": \"Italie\", \"Hopital\": \"FANN\", \"Temps Hospitalisation (j)\": 13.0}, {\"Date\": \"2020-03-13T00:00:00\", \"Positif\": 1, \"Negatif\": 0, \"Age\": null, \"Homme\": null, \"Femme\": null, \"D\\u00e9c\\u00e9d\\u00e9\": 0.0, \"Gu\\u00e9ri\": 1.0, \"Nationalit\\u00e9\": \"Senegal\", \"Resident Senegal\": \"Oui\", \"Ville\": \"Touba\", \"Facteur\": \"Contact\", \"Source/Voyage\": \"Italie\", \"Hopital\": \"Darou Marnane\", \"Temps Hospitalisation (j)\": 14.0}, {\"Date\": \"2020-03-13T00:00:00\", \"Positif\": 1, \"Negatif\": 0, \"Age\": null, \"Homme\": null, \"Femme\": null, \"D\\u00e9c\\u00e9d\\u00e9\": 0.0, \"Gu\\u00e9ri\": 1.0, \"Nationalit\\u00e9\": \"Senegal\", \"Resident Senegal\": \"Oui\", \"Ville\": \"Touba\", \"Facteur\": \"Contact\", \"Source/Voyage\": \"Italie\", \"Hopital\": \"Darou Marnane\", \"Temps Hospitalisation (j)\": 14.0}, {\"Date\": \"2020-03-13T00:00:00\", \"Positif\": 1, \"Negatif\": 0, \"Age\": null, \"Homme\": null, \"Femme\": null, \"D\\u00e9c\\u00e9d\\u00e9\": 0.0, \"Gu\\u00e9ri\": 1.0, \"Nationalit\\u00e9\": \"Senegal\", \"Resident Senegal\": \"Oui\", \"Ville\": \"Touba\", \"Facteur\": \"Contact\", \"Source/Voyage\": \"Italie\", \"Hopital\": \"Darou Marnane\", \"Temps Hospitalisation (j)\": null}, {\"Date\": \"2020-03-13T00:00:00\", \"Positif\": 1, \"Negatif\": 0, \"Age\": null, \"Homme\": null, \"Femme\": null, \"D\\u00e9c\\u00e9d\\u00e9\": 0.0, \"Gu\\u00e9ri\": 1.0, \"Nationalit\\u00e9\": \"Senegal\", \"Resident Senegal\": \"Oui\", \"Ville\": \"Touba\", \"Facteur\": \"Contact\", \"Source/Voyage\": \"Italie\", \"Hopital\": \"Darou Marnane\", \"Temps Hospitalisation (j)\": null}, {\"Date\": \"2020-03-13T00:00:00\", \"Positif\": 1, \"Negatif\": 0, \"Age\": null, \"Homme\": null, \"Femme\": null, \"D\\u00e9c\\u00e9d\\u00e9\": 0.0, \"Gu\\u00e9ri\": 1.0, \"Nationalit\\u00e9\": \"Senegal\", \"Resident Senegal\": \"Oui\", \"Ville\": \"Touba\", \"Facteur\": \"Contact\", \"Source/Voyage\": \"Italie\", \"Hopital\": \"Darou Marnane\", \"Temps Hospitalisation (j)\": null}, {\"Date\": \"2020-03-13T00:00:00\", \"Positif\": 1, \"Negatif\": 0, \"Age\": null, \"Homme\": null, \"Femme\": null, \"D\\u00e9c\\u00e9d\\u00e9\": 0.0, \"Gu\\u00e9ri\": 1.0, \"Nationalit\\u00e9\": \"Senegal\", \"Resident Senegal\": \"Oui\", \"Ville\": \"Touba\", \"Facteur\": \"Contact\", \"Source/Voyage\": \"Italie\", \"Hopital\": \"Darou Marnane\", \"Temps Hospitalisation (j)\": 16.0}, {\"Date\": \"2020-03-13T00:00:00\", \"Positif\": 1, \"Negatif\": 0, \"Age\": null, \"Homme\": null, \"Femme\": null, \"D\\u00e9c\\u00e9d\\u00e9\": 0.0, \"Gu\\u00e9ri\": 1.0, \"Nationalit\\u00e9\": \"Senegal\", \"Resident Senegal\": \"Oui\", \"Ville\": \"Touba\", \"Facteur\": \"Contact\", \"Source/Voyage\": \"Italie\", \"Hopital\": \"Darou Marnane\", \"Temps Hospitalisation (j)\": 10.0}, {\"Date\": \"2020-03-13T00:00:00\", \"Positif\": 1, \"Negatif\": 0, \"Age\": null, \"Homme\": null, \"Femme\": null, \"D\\u00e9c\\u00e9d\\u00e9\": 0.0, \"Gu\\u00e9ri\": 1.0, \"Nationalit\\u00e9\": \"Senegal\", \"Resident Senegal\": \"Oui\", \"Ville\": \"Touba\", \"Facteur\": \"Contact\", \"Source/Voyage\": \"Italie\", \"Hopital\": \"Darou Marnane\", \"Temps Hospitalisation (j)\": null}, {\"Date\": \"2020-03-13T00:00:00\", \"Positif\": 1, \"Negatif\": 0, \"Age\": null, \"Homme\": null, \"Femme\": null, \"D\\u00e9c\\u00e9d\\u00e9\": 0.0, \"Gu\\u00e9ri\": 1.0, \"Nationalit\\u00e9\": \"Senegal\", \"Resident Senegal\": \"Oui\", \"Ville\": \"Touba\", \"Facteur\": \"Contact\", \"Source/Voyage\": \"Italie\", \"Hopital\": \"Darou Marnane\", \"Temps Hospitalisation (j)\": null}, {\"Date\": \"2020-03-13T00:00:00\", \"Positif\": 1, \"Negatif\": 0, \"Age\": null, \"Homme\": null, \"Femme\": null, \"D\\u00e9c\\u00e9d\\u00e9\": 0.0, \"Gu\\u00e9ri\": 1.0, \"Nationalit\\u00e9\": \"Senegal\", \"Resident Senegal\": \"Oui\", \"Ville\": \"Touba\", \"Facteur\": \"Contact\", \"Source/Voyage\": \"Italie\", \"Hopital\": \"Darou Marnane\", \"Temps Hospitalisation (j)\": null}, {\"Date\": \"2020-03-13T00:00:00\", \"Positif\": 1, \"Negatif\": 0, \"Age\": null, \"Homme\": null, \"Femme\": null, \"D\\u00e9c\\u00e9d\\u00e9\": 0.0, \"Gu\\u00e9ri\": 1.0, \"Nationalit\\u00e9\": \"Senegal\", \"Resident Senegal\": \"Oui\", \"Ville\": \"Touba\", \"Facteur\": \"Contact\", \"Source/Voyage\": \"Italie\", \"Hopital\": \"Darou Marnane\", \"Temps Hospitalisation (j)\": null}, {\"Date\": \"2020-03-14T00:00:00\", \"Positif\": 1, \"Negatif\": 0, \"Age\": 2.0, \"Homme\": 1.0, \"Femme\": 0.0, \"D\\u00e9c\\u00e9d\\u00e9\": 0.0, \"Gu\\u00e9ri\": 1.0, \"Nationalit\\u00e9\": \"Senegal\", \"Resident Senegal\": \"Oui\", \"Ville\": \"Dakar\", \"Facteur\": \"Contact\", \"Source/Voyage\": \"Italie\", \"Hopital\": null, \"Temps Hospitalisation (j)\": 5.0}, {\"Date\": \"2020-03-14T00:00:00\", \"Positif\": 1, \"Negatif\": 0, \"Age\": 51.0, \"Homme\": 1.0, \"Femme\": 0.0, \"D\\u00e9c\\u00e9d\\u00e9\": 0.0, \"Gu\\u00e9ri\": 1.0, \"Nationalit\\u00e9\": \"Espagne\", \"Resident Senegal\": \"Oui\", \"Ville\": \"Dakar\", \"Facteur\": \"Import\\u00e9\", \"Source/Voyage\": \"Espagne\", \"Hopital\": null, \"Temps Hospitalisation (j)\": 15.0}, {\"Date\": \"2020-03-14T00:00:00\", \"Positif\": 1, \"Negatif\": 0, \"Age\": 68.0, \"Homme\": 0.0, \"Femme\": 2.0, \"D\\u00e9c\\u00e9d\\u00e9\": 0.0, \"Gu\\u00e9ri\": 1.0, \"Nationalit\\u00e9\": \"France\", \"Resident Senegal\": \"Oui\", \"Ville\": \"Nianing\", \"Facteur\": \"Import\\u00e9\", \"Source/Voyage\": \"France\", \"Hopital\": null, \"Temps Hospitalisation (j)\": null}, {\"Date\": \"2020-03-15T00:00:00\", \"Positif\": 1, \"Negatif\": 0, \"Age\": 37.0, \"Homme\": 1.0, \"Femme\": 0.0, \"D\\u00e9c\\u00e9d\\u00e9\": 0.0, \"Gu\\u00e9ri\": 1.0, \"Nationalit\\u00e9\": \"Senegal\", \"Resident Senegal\": \"Oui\", \"Ville\": \"Dakar\", \"Facteur\": \"Import\\u00e9\", \"Source/Voyage\": \"Espagne\", \"Hopital\": null, \"Temps Hospitalisation (j)\": null}, {\"Date\": \"2020-03-15T00:00:00\", \"Positif\": 1, \"Negatif\": 0, \"Age\": 15.0, \"Homme\": 1.0, \"Femme\": 0.0, \"D\\u00e9c\\u00e9d\\u00e9\": 0.0, \"Gu\\u00e9ri\": 1.0, \"Nationalit\\u00e9\": \"Senegal\", \"Resident Senegal\": \"Oui\", \"Ville\": \"Dakar\", \"Facteur\": \"Contact\", \"Source/Voyage\": \"Italie\", \"Hopital\": null, \"Temps Hospitalisation (j)\": null}, {\"Date\": \"2020-03-16T00:00:00\", \"Positif\": 1, \"Negatif\": 0, \"Age\": 67.0, \"Homme\": 1.0, \"Femme\": 0.0, \"D\\u00e9c\\u00e9d\\u00e9\": 0.0, \"Gu\\u00e9ri\": 1.0, \"Nationalit\\u00e9\": \"France\", \"Resident Senegal\": \"Non\", \"Ville\": \"Dakar\", \"Facteur\": \"Import\\u00e9\", \"Source/Voyage\": \"France\", \"Hopital\": null, \"Temps Hospitalisation (j)\": 12.0}, {\"Date\": \"2020-03-18T00:00:00\", \"Positif\": 1, \"Negatif\": 0, \"Age\": null, \"Homme\": null, \"Femme\": null, \"D\\u00e9c\\u00e9d\\u00e9\": null, \"Gu\\u00e9ri\": 1.0, \"Nationalit\\u00e9\": null, \"Resident Senegal\": null, \"Ville\": \"Dakar\", \"Facteur\": \"Contact\", \"Source/Voyage\": \"Italie\", \"Hopital\": null, \"Temps Hospitalisation (j)\": 11.0}, {\"Date\": \"2020-03-18T00:00:00\", \"Positif\": 1, \"Negatif\": 0, \"Age\": null, \"Homme\": null, \"Femme\": null, \"D\\u00e9c\\u00e9d\\u00e9\": null, \"Gu\\u00e9ri\": 1.0, \"Nationalit\\u00e9\": null, \"Resident Senegal\": null, \"Ville\": \"Dakar\", \"Facteur\": \"Contact\", \"Source/Voyage\": \"France\", \"Hopital\": null, \"Temps Hospitalisation (j)\": 11.0}, {\"Date\": \"2020-03-21T00:00:00\", \"Positif\": 1, \"Negatif\": 0, \"Age\": null, \"Homme\": null, \"Femme\": null, \"D\\u00e9c\\u00e9d\\u00e9\": null, \"Gu\\u00e9ri\": 1.0, \"Nationalit\\u00e9\": null, \"Resident Senegal\": null, \"Ville\": \"Dakar\", \"Facteur\": \"Contact\", \"Source/Voyage\": \"Italie\", \"Hopital\": null, \"Temps Hospitalisation (j)\": null}]}}, {\"mode\": \"vega-lite\"});\n",
       "</script>"
      ],
      "text/plain": [
       "alt.Chart(...)"
      ]
     },
     "execution_count": 245,
     "metadata": {},
     "output_type": "execute_result"
    }
   ],
   "source": [
    "alt.Chart(df_infection_origin)\\\n",
    "    .mark_bar()\\\n",
    "    .encode(\n",
    "        x='Source/Voyage',\n",
    "        y='count()'\n",
    "    )"
   ]
  },
  {
   "cell_type": "markdown",
   "metadata": {},
   "source": [
    "**Q12**: Free exploration. Gather some insights from other unexplored columns."
   ]
  },
  {
   "cell_type": "code",
   "execution_count": null,
   "metadata": {},
   "outputs": [],
   "source": []
  }
 ],
 "metadata": {
  "kernelspec": {
   "display_name": "Python 3",
   "language": "python",
   "name": "python3"
  },
  "language_info": {
   "codemirror_mode": {
    "name": "ipython",
    "version": 3
   },
   "file_extension": ".py",
   "mimetype": "text/x-python",
   "name": "python",
   "nbconvert_exporter": "python",
   "pygments_lexer": "ipython3",
   "version": "3.10.4"
  },
  "toc": {
   "base_numbering": 1,
   "nav_menu": {},
   "number_sections": false,
   "sideBar": true,
   "skip_h1_title": false,
   "title_cell": "Table of Contents",
   "title_sidebar": "Contents",
   "toc_cell": false,
   "toc_position": {},
   "toc_section_display": true,
   "toc_window_display": false
  },
  "varInspector": {
   "cols": {
    "lenName": 16,
    "lenType": 16,
    "lenVar": 40
   },
   "kernels_config": {
    "python": {
     "delete_cmd_postfix": "",
     "delete_cmd_prefix": "del ",
     "library": "var_list.py",
     "varRefreshCmd": "print(var_dic_list())"
    },
    "r": {
     "delete_cmd_postfix": ") ",
     "delete_cmd_prefix": "rm(",
     "library": "var_list.r",
     "varRefreshCmd": "cat(var_dic_list()) "
    }
   },
   "types_to_exclude": [
    "module",
    "function",
    "builtin_function_or_method",
    "instance",
    "_Feature"
   ],
   "window_display": false
  }
 },
 "nbformat": 4,
 "nbformat_minor": 2
}
